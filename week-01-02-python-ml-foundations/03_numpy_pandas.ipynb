{
 "cells": [
  {
   "cell_type": "markdown",
   "id": "0bb9e49e",
   "metadata": {},
   "source": [
    "# 📊 Notebook 03: NumPy & Pandas for Data Manipulation\n",
    "\n",
    "**Week 1-2: Python & ML Foundations**  \n",
    "**Gen AI Masters Program**\n",
    "\n",
    "---\n",
    "\n",
    "## 📋 Objectives\n",
    "\n",
    "By the end of this notebook, you will master:\n",
    "1. ✅ NumPy arrays and operations\n",
    "2. ✅ Pandas DataFrames for data manipulation\n",
    "3. ✅ Data cleaning and preprocessing\n",
    "4. ✅ Statistical operations\n",
    "5. ✅ Data transformation pipelines\n",
    "6. ✅ Real-world manufacturing data examples\n",
    "\n",
    "**Estimated Time:** 3-4 hours\n",
    "\n",
    "---\n",
    "\n",
    "## 📚 Why NumPy and Pandas?\n",
    "\n",
    "- **NumPy**: Fast numerical computations, foundation for all ML libraries\n",
    "- **Pandas**: Data manipulation, cleaning, and analysis\n",
    "- **Industry Standard**: Used in every data science project\n",
    "\n",
    "Let's dive in! 🚀"
   ]
  },
  {
   "cell_type": "markdown",
   "id": "ae89133f",
   "metadata": {},
   "source": [
    "## 1️⃣ NumPy Essentials\n",
    "\n",
    "### Array Creation and Operations"
   ]
  },
  {
   "cell_type": "code",
   "execution_count": null,
   "id": "bf9d2603",
   "metadata": {},
   "outputs": [],
   "source": [
    "import numpy as np\n",
    "\n",
    "print(\"🔢 NumPy Array Basics\")\n",
    "print(\"=\" * 50)\n",
    "\n",
    "# Create arrays\n",
    "arr_1d = np.array([1, 2, 3, 4, 5])\n",
    "arr_2d = np.array([[1, 2, 3], [4, 5, 6]])\n",
    "arr_zeros = np.zeros((3, 3))\n",
    "arr_ones = np.ones((2, 4))\n",
    "arr_range = np.arange(0, 10, 2)  # Start, stop, step\n",
    "arr_linspace = np.linspace(0, 1, 5)  # 5 values between 0 and 1\n",
    "\n",
    "print(\"1D Array:\", arr_1d)\n",
    "print(\"\\n2D Array:\\n\", arr_2d)\n",
    "print(\"\\nShape of 2D array:\", arr_2d.shape)\n",
    "print(\"Data type:\", arr_2d.dtype)\n",
    "print(\"\\nRange array:\", arr_range)\n",
    "print(\"Linspace array:\", arr_linspace)"
   ]
  },
  {
   "cell_type": "markdown",
   "id": "b634168f",
   "metadata": {},
   "source": [
    "### Array Operations"
   ]
  },
  {
   "cell_type": "code",
   "execution_count": null,
   "id": "e7b96128",
   "metadata": {},
   "outputs": [],
   "source": [
    "# Element-wise operations\n",
    "a = np.array([1, 2, 3, 4])\n",
    "b = np.array([10, 20, 30, 40])\n",
    "\n",
    "print(\"Array a:\", a)\n",
    "print(\"Array b:\", b)\n",
    "print(\"\\nElement-wise operations:\")\n",
    "print(\"a + b =\", a + b)\n",
    "print(\"a * b =\", a * b)\n",
    "print(\"a ** 2 =\", a ** 2)\n",
    "print(\"\\nBroadcasting:\")\n",
    "print(\"a + 10 =\", a + 10)\n",
    "print(\"a * 2 =\", a * 2)\n",
    "\n",
    "# Statistical operations\n",
    "data = np.array([65, 75, 85, 95, 100, 72, 88, 91])\n",
    "print(\"\\n📊 Statistical Operations:\")\n",
    "print(f\"Mean: {data.mean():.2f}\")\n",
    "print(f\"Median: {np.median(data):.2f}\")\n",
    "print(f\"Std Dev: {data.std():.2f}\")\n",
    "print(f\"Min: {data.min()}, Max: {data.max()}\")\n",
    "print(f\"Sum: {data.sum()}\")"
   ]
  },
  {
   "cell_type": "markdown",
   "id": "0f470654",
   "metadata": {},
   "source": [
    "### Indexing and Slicing"
   ]
  },
  {
   "cell_type": "code",
   "execution_count": null,
   "id": "6e511bec",
   "metadata": {},
   "outputs": [],
   "source": [
    "# 2D array indexing\n",
    "matrix = np.array([\n",
    "    [1, 2, 3, 4],\n",
    "    [5, 6, 7, 8],\n",
    "    [9, 10, 11, 12]\n",
    "])\n",
    "\n",
    "print(\"Matrix:\\n\", matrix)\n",
    "print(\"\\nElement at [1, 2]:\", matrix[1, 2])  # 7\n",
    "print(\"First row:\", matrix[0, :])  # All columns of first row\n",
    "print(\"Second column:\", matrix[:, 1])  # All rows of second column\n",
    "print(\"Sub-matrix:\\n\", matrix[:2, 1:3])  # First 2 rows, columns 1-2\n",
    "\n",
    "# Boolean indexing\n",
    "scores = np.array([65, 75, 85, 95, 100, 72, 88, 91])\n",
    "passing_scores = scores[scores >= 80]\n",
    "print(\"\\n✅ Passing scores (>=80):\", passing_scores)"
   ]
  },
  {
   "cell_type": "markdown",
   "id": "49ccf4a2",
   "metadata": {},
   "source": [
    "### Reshaping and Stacking"
   ]
  },
  {
   "cell_type": "code",
   "execution_count": null,
   "id": "0e21b5d6",
   "metadata": {},
   "outputs": [],
   "source": [
    "# Reshaping\n",
    "arr = np.arange(12)\n",
    "print(\"Original array:\", arr)\n",
    "print(\"\\nReshaped (3x4):\\n\", arr.reshape(3, 4))\n",
    "print(\"\\nReshaped (2x6):\\n\", arr.reshape(2, 6))\n",
    "\n",
    "# Flattening\n",
    "matrix_2d = np.array([[1, 2, 3], [4, 5, 6]])\n",
    "print(\"\\nFlattened:\", matrix_2d.flatten())\n",
    "\n",
    "# Stacking\n",
    "a = np.array([1, 2, 3])\n",
    "b = np.array([4, 5, 6])\n",
    "print(\"\\nVertical stack:\\n\", np.vstack([a, b]))\n",
    "print(\"\\nHorizontal stack:\", np.hstack([a, b]))"
   ]
  },
  {
   "cell_type": "markdown",
   "id": "1e407fdc",
   "metadata": {},
   "source": [
    "## 2️⃣ Pandas Fundamentals\n",
    "\n",
    "### DataFrame Creation"
   ]
  },
  {
   "cell_type": "code",
   "execution_count": null,
   "id": "f1678f2c",
   "metadata": {},
   "outputs": [],
   "source": [
    "import pandas as pd\n",
    "\n",
    "# Creating DataFrame from dictionary\n",
    "data = {\n",
    "    'product_id': ['P001', 'P002', 'P003', 'P004', 'P005'],\n",
    "    'product_name': ['Motor', 'Bearing', 'Gear', 'Shaft', 'Valve'],\n",
    "    'quantity': [100, 250, 150, 80, 200],\n",
    "    'price': [2500.50, 150.75, 850.00, 1200.25, 450.00],\n",
    "    'defect_rate': [0.02, 0.01, 0.03, 0.02, 0.01]\n",
    "}\n",
    "\n",
    "df = pd.DataFrame(data)\n",
    "print(\"📊 Manufacturing Inventory DataFrame:\")\n",
    "print(df)\n",
    "print(\"\\nDataFrame Info:\")\n",
    "print(df.info())\n",
    "print(\"\\nBasic Statistics:\")\n",
    "print(df.describe())"
   ]
  },
  {
   "cell_type": "markdown",
   "id": "c596c722",
   "metadata": {},
   "source": [
    "### Data Selection and Filtering"
   ]
  },
  {
   "cell_type": "code",
   "execution_count": null,
   "id": "3de72df3",
   "metadata": {},
   "outputs": [],
   "source": [
    "# Column selection\n",
    "print(\"Product names:\")\n",
    "print(df['product_name'])\n",
    "\n",
    "# Multiple columns\n",
    "print(\"\\nProduct and Price:\")\n",
    "print(df[['product_name', 'price']])\n",
    "\n",
    "# Row selection by index\n",
    "print(\"\\nFirst 3 rows:\")\n",
    "print(df.head(3))\n",
    "\n",
    "# Boolean filtering\n",
    "print(\"\\n💰 High-value products (price > 1000):\")\n",
    "high_value = df[df['price'] > 1000]\n",
    "print(high_value)\n",
    "\n",
    "# Multiple conditions\n",
    "print(\"\\n⚠️  High quantity AND low defect rate:\")\n",
    "quality_products = df[(df['quantity'] > 100) & (df['defect_rate'] < 0.02)]\n",
    "print(quality_products)"
   ]
  },
  {
   "cell_type": "markdown",
   "id": "d35b115a",
   "metadata": {},
   "source": [
    "### Data Manipulation"
   ]
  },
  {
   "cell_type": "code",
   "execution_count": null,
   "id": "ce15aad1",
   "metadata": {},
   "outputs": [],
   "source": [
    "# Add new column\n",
    "df['total_value'] = df['quantity'] * df['price']\n",
    "df['quality_score'] = (1 - df['defect_rate']) * 100\n",
    "\n",
    "print(\"DataFrame with new columns:\")\n",
    "print(df[['product_name', 'total_value', 'quality_score']])\n",
    "\n",
    "# Sorting\n",
    "print(\"\\n📈 Sorted by total value (descending):\")\n",
    "print(df.sort_values('total_value', ascending=False))\n",
    "\n",
    "# Grouping and aggregation\n",
    "print(\"\\n📊 Summary statistics:\")\n",
    "print(f\"Total inventory value: ${df['total_value'].sum():,.2f}\")\n",
    "print(f\"Average defect rate: {df['defect_rate'].mean():.2%}\")\n",
    "print(f\"Average quality score: {df['quality_score'].mean():.2f}\")"
   ]
  },
  {
   "cell_type": "markdown",
   "id": "f3b1bd95",
   "metadata": {},
   "source": [
    "## 3️⃣ Data Cleaning\n",
    "\n",
    "### Handling Missing Data"
   ]
  },
  {
   "cell_type": "code",
   "execution_count": null,
   "id": "598f768b",
   "metadata": {},
   "outputs": [],
   "source": [
    "# Create DataFrame with missing values\n",
    "manufacturing_data = pd.DataFrame({\n",
    "    'machine_id': ['M001', 'M002', 'M003', 'M004', 'M005'],\n",
    "    'temperature': [75.5, np.nan, 80.2, 78.9, np.nan],\n",
    "    'pressure': [120, 125, np.nan, 118, 122],\n",
    "    'vibration': [0.5, 0.6, 0.8, np.nan, 0.7]\n",
    "})\n",
    "\n",
    "print(\"📊 Data with missing values:\")\n",
    "print(manufacturing_data)\n",
    "print(\"\\n🔍 Missing values count:\")\n",
    "print(manufacturing_data.isnull().sum())\n",
    "\n",
    "# Fill missing values\n",
    "print(\"\\n✅ After filling with mean:\")\n",
    "df_filled = manufacturing_data.fillna(manufacturing_data.mean())\n",
    "print(df_filled)\n",
    "\n",
    "# Drop rows with missing values\n",
    "print(\"\\n🗑️  After dropping rows with NaN:\")\n",
    "df_dropped = manufacturing_data.dropna()\n",
    "print(df_dropped)"
   ]
  },
  {
   "cell_type": "markdown",
   "id": "3331c75e",
   "metadata": {},
   "source": [
    "### Data Type Conversion and String Operations"
   ]
  },
  {
   "cell_type": "code",
   "execution_count": null,
   "id": "5263615a",
   "metadata": {},
   "outputs": [],
   "source": [
    "# String operations\n",
    "products = pd.DataFrame({\n",
    "    'code': ['MOTOR-A-001', 'BEARING-B-002', 'GEAR-C-003'],\n",
    "    'price_str': ['$2,500.50', '$150.75', '$850.00']\n",
    "})\n",
    "\n",
    "print(\"Original data:\")\n",
    "print(products)\n",
    "\n",
    "# Extract parts from code\n",
    "products['category'] = products['code'].str.split('-').str[0]\n",
    "products['type'] = products['code'].str.split('-').str[1]\n",
    "products['number'] = products['code'].str.split('-').str[2]\n",
    "\n",
    "# Clean and convert price\n",
    "products['price'] = products['price_str'].str.replace('$', '').str.replace(',', '').astype(float)\n",
    "\n",
    "print(\"\\n✨ After processing:\")\n",
    "print(products)"
   ]
  },
  {
   "cell_type": "markdown",
   "id": "427f43da",
   "metadata": {},
   "source": [
    "## 4️⃣ Real-World Manufacturing Example\n",
    "\n",
    "### Quality Control Analysis"
   ]
  },
  {
   "cell_type": "code",
   "execution_count": null,
   "id": "89644655",
   "metadata": {},
   "outputs": [],
   "source": [
    "# Simulated quality control data\n",
    "np.random.seed(42)\n",
    "n_samples = 100\n",
    "\n",
    "quality_data = pd.DataFrame({\n",
    "    'batch_id': [f'B{i:03d}' for i in range(1, n_samples + 1)],\n",
    "    'temperature': np.random.normal(75, 5, n_samples),\n",
    "    'pressure': np.random.normal(120, 10, n_samples),\n",
    "    'humidity': np.random.normal(50, 8, n_samples),\n",
    "    'defect_count': np.random.poisson(2, n_samples)\n",
    "})\n",
    "\n",
    "# Add quality classification\n",
    "quality_data['is_defective'] = quality_data['defect_count'] > 3\n",
    "\n",
    "print(\"🏭 Quality Control Dataset (first 10 rows):\")\n",
    "print(quality_data.head(10))\n",
    "\n",
    "print(\"\\n📊 Summary Statistics:\")\n",
    "print(quality_data.describe())\n",
    "\n",
    "print(\"\\n⚠️  Defect Analysis:\")\n",
    "print(f\"Total batches: {len(quality_data)}\")\n",
    "print(f\"Defective batches: {quality_data['is_defective'].sum()}\")\n",
    "print(f\"Defect rate: {quality_data['is_defective'].mean():.2%}\")\n",
    "\n",
    "print(\"\\n🌡️  Temperature stats for defective vs non-defective:\")\n",
    "print(quality_data.groupby('is_defective')['temperature'].agg(['mean', 'std']))"
   ]
  },
  {
   "cell_type": "markdown",
   "id": "77374db7",
   "metadata": {},
   "source": [
    "### Data Aggregation and Pivot Tables"
   ]
  },
  {
   "cell_type": "code",
   "execution_count": null,
   "id": "31b4baca",
   "metadata": {},
   "outputs": [],
   "source": [
    "# Create sample production data\n",
    "production_data = pd.DataFrame({\n",
    "    'date': pd.date_range('2025-01-01', periods=20, freq='D'),\n",
    "    'shift': ['Morning', 'Evening'] * 10,\n",
    "    'machine': ['M1', 'M2', 'M1', 'M2'] * 5,\n",
    "    'units_produced': np.random.randint(80, 120, 20),\n",
    "    'defects': np.random.randint(0, 10, 20)\n",
    "})\n",
    "\n",
    "# Group by shift and machine\n",
    "print(\"📊 Production summary by shift and machine:\")\n",
    "summary = production_data.groupby(['shift', 'machine']).agg({\n",
    "    'units_produced': ['sum', 'mean'],\n",
    "    'defects': ['sum', 'mean']\n",
    "})\n",
    "print(summary)\n",
    "\n",
    "# Calculate defect rate\n",
    "production_data['defect_rate'] = production_data['defects'] / production_data['units_produced'] * 100\n",
    "\n",
    "# Pivot table\n",
    "print(\"\\n🔄 Pivot table - Average defect rate:\")\n",
    "pivot = pd.pivot_table(\n",
    "    production_data,\n",
    "    values='defect_rate',\n",
    "    index='shift',\n",
    "    columns='machine',\n",
    "    aggfunc='mean'\n",
    ")\n",
    "print(pivot)"
   ]
  },
  {
   "cell_type": "markdown",
   "id": "c3c44659",
   "metadata": {},
   "source": [
    "## 5️⃣ Time Series Operations"
   ]
  },
  {
   "cell_type": "code",
   "execution_count": null,
   "id": "50d1705d",
   "metadata": {},
   "outputs": [],
   "source": [
    "# Create time series data\n",
    "dates = pd.date_range('2025-01-01', periods=30, freq='D')\n",
    "sensor_data = pd.DataFrame({\n",
    "    'date': dates,\n",
    "    'sensor_reading': np.random.normal(100, 10, 30) + np.linspace(0, 5, 30)  # Slight upward trend\n",
    "})\n",
    "\n",
    "sensor_data.set_index('date', inplace=True)\n",
    "\n",
    "print(\"📅 Time series data (first 5 days):\")\n",
    "print(sensor_data.head())\n",
    "\n",
    "# Rolling statistics\n",
    "sensor_data['rolling_mean_7d'] = sensor_data['sensor_reading'].rolling(window=7).mean()\n",
    "sensor_data['rolling_std_7d'] = sensor_data['sensor_reading'].rolling(window=7).std()\n",
    "\n",
    "print(\"\\n📊 With 7-day rolling statistics:\")\n",
    "print(sensor_data.tail(10))\n",
    "\n",
    "# Resampling (weekly average)\n",
    "print(\"\\n📈 Weekly average:\")\n",
    "weekly = sensor_data['sensor_reading'].resample('W').mean()\n",
    "print(weekly)"
   ]
  },
  {
   "cell_type": "markdown",
   "id": "93c9e624",
   "metadata": {},
   "source": [
    "## 6️⃣ Combining DataFrames"
   ]
  },
  {
   "cell_type": "code",
   "execution_count": null,
   "id": "e9aaa630",
   "metadata": {},
   "outputs": [],
   "source": [
    "# Create two related DataFrames\n",
    "products_df = pd.DataFrame({\n",
    "    'product_id': ['P001', 'P002', 'P003'],\n",
    "    'product_name': ['Motor', 'Bearing', 'Gear'],\n",
    "    'category': ['Mechanical', 'Mechanical', 'Mechanical']\n",
    "})\n",
    "\n",
    "sales_df = pd.DataFrame({\n",
    "    'product_id': ['P001', 'P002', 'P001', 'P003'],\n",
    "    'quantity': [10, 25, 15, 8],\n",
    "    'revenue': [25000, 3750, 37500, 6800]\n",
    "})\n",
    "\n",
    "print(\"Products:\")\n",
    "print(products_df)\n",
    "print(\"\\nSales:\")\n",
    "print(sales_df)\n",
    "\n",
    "# Merge (join) the DataFrames\n",
    "print(\"\\n🔗 Merged data (inner join):\")\n",
    "merged = pd.merge(sales_df, products_df, on='product_id')\n",
    "print(merged)\n",
    "\n",
    "# Aggregate by product\n",
    "print(\"\\n📊 Total sales by product:\")\n",
    "product_sales = merged.groupby('product_name').agg({\n",
    "    'quantity': 'sum',\n",
    "    'revenue': 'sum'\n",
    "})\n",
    "print(product_sales)"
   ]
  },
  {
   "cell_type": "markdown",
   "id": "b91e8a58",
   "metadata": {},
   "source": [
    "## 🎯 Practice Exercises\n",
    "\n",
    "Try these exercises to master NumPy and Pandas!"
   ]
  },
  {
   "cell_type": "code",
   "execution_count": null,
   "id": "d793b6af",
   "metadata": {},
   "outputs": [],
   "source": [
    "# Exercise 1: Create a 5x5 matrix of random numbers and find:\n",
    "# - The maximum value in each row\n",
    "# - The mean of each column\n",
    "# TODO: Your code here\n",
    "\n",
    "# Exercise 2: Given this manufacturing data, calculate:\n",
    "# - Products with defect rate > 2%\n",
    "# - Total value of inventory\n",
    "# - Average price per category\n",
    "exercise_data = pd.DataFrame({\n",
    "    'product': ['A', 'B', 'C', 'D', 'E'],\n",
    "    'category': ['Motors', 'Bearings', 'Motors', 'Gears', 'Bearings'],\n",
    "    'quantity': [100, 250, 150, 200, 300],\n",
    "    'price': [2500, 150, 2800, 850, 180],\n",
    "    'defects': [3, 2, 5, 4, 3]\n",
    "})\n",
    "\n",
    "# TODO: Your code here\n",
    "\n",
    "print(\"💪 Complete these exercises to test your skills!\")"
   ]
  },
  {
   "cell_type": "markdown",
   "id": "f126da11",
   "metadata": {},
   "source": [
    "## 🎉 Summary\n",
    "\n",
    "You've mastered NumPy and Pandas! Key takeaways:\n",
    "\n",
    "### NumPy\n",
    "- ✅ Array creation and operations\n",
    "- ✅ Indexing, slicing, and reshaping\n",
    "- ✅ Broadcasting and vectorization\n",
    "- ✅ Statistical operations\n",
    "\n",
    "### Pandas\n",
    "- ✅ DataFrame creation and manipulation\n",
    "- ✅ Data selection and filtering\n",
    "- ✅ Data cleaning and preprocessing\n",
    "- ✅ Grouping and aggregation\n",
    "- ✅ Time series operations\n",
    "- ✅ Merging and joining DataFrames\n",
    "\n",
    "---\n",
    "\n",
    "### 📚 Next Steps\n",
    "\n",
    "Continue to **Notebook 04: Data Visualization** to learn how to visualize your data!\n",
    "\n",
    "<div align=\"center\">\n",
    "<b>Excellent work! Data manipulation skills unlocked! 📊</b>\n",
    "</div>"
   ]
  }
 ],
 "metadata": {
  "language_info": {
   "name": "python"
  }
 },
 "nbformat": 4,
 "nbformat_minor": 5
}
