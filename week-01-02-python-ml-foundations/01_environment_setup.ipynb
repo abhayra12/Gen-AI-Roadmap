{
 "cells": [
  {
   "cell_type": "markdown",
   "id": "7cc3fee3",
   "metadata": {},
   "source": [
    "# 🚀 Notebook 01: Environment Setup & Verification\n",
    "\n",
    "**Week 1-2: Python & ML Foundations**  \n",
    "**Gen AI Masters Program**\n",
    "\n",
    "---\n",
    "\n",
    "## 📋 Objectives\n",
    "\n",
    "By the end of this notebook, you will:\n",
    "1. ✅ Verify your Python installation\n",
    "2. ✅ Check that all necessary data science packages are installed\n",
    "3. ✅ Understand your hardware (CPU/GPU)\n",
    "4. ✅ Learn Jupyter Notebook basics\n",
    "5. ✅ Set up Git for version control\n",
    "\n",
    "**Estimated Time:** 1-2 hours\n",
    "\n",
    "---\n",
    "\n",
    "## 📚 What You'll Learn\n",
    "\n",
    "- Environment verification techniques\n",
    "- Package management with pip\n",
    "- API authentication best practices\n",
    "- Basic Gen AI model inference\n",
    "- Jupyter notebook features\n",
    "- Git fundamentals for ML projects\n",
    "\n",
    "**Let's get started! 🎯**"
   ]
  },
  {
   "cell_type": "markdown",
   "id": "a1fc2987",
   "metadata": {},
   "source": [
    "## 1️⃣ Python Environment Verification\n",
    "\n",
    "Let's verify your Python installation and environment setup."
   ]
  },
  {
   "cell_type": "code",
   "execution_count": null,
   "id": "97bc0aac",
   "metadata": {},
   "outputs": [],
   "source": [
    "import sys\n",
    "import platform\n",
    "\n",
    "print(\"🐍 Python Environment Information\")\n",
    "print(\"=\" * 50)\n",
    "print(f\"Python Version: {sys.version}\")\n",
    "print(f\"Python Path: {sys.executable}\")\n",
    "print(f\"Platform: {platform.platform()}\")\n",
    "print(f\"Architecture: {platform.machine()}\")\n",
    "print(\"=\" * 50)\n",
    "\n",
    "# Check Python version is 3.10+\n",
    "version_info = sys.version_info\n",
    "if version_info.major >= 3 and version_info.minor >= 10:\n",
    "    print(\"✅ Python version is compatible (3.10+)\")\n",
    "else:\n",
    "    print(\"❌ Please upgrade to Python 3.10 or higher\")"
   ]
  },
  {
   "cell_type": "markdown",
   "id": "7bcc336e",
   "metadata": {},
   "source": [
    "## 2️⃣ Package Installation Verification\n",
    "\n",
    "Check if all required packages are installed correctly."
   ]
  },
  {
   "cell_type": "code",
   "execution_count": null,
   "id": "51f3317c",
   "metadata": {},
   "outputs": [],
   "source": [
    "# List of critical packages for this module\n",
    "packages_to_check = [\n",
    "    \"numpy\",\n",
    "    \"pandas\",\n",
    "    \"matplotlib\",\n",
    "    \"seaborn\",\n",
    "    \"scikit-learn\",\n",
    "    \"jupyter\",\n",
    "    \"torch\",  # Foundational for deep learning modules later\n",
    "]\n",
    "\n",
    "print(\"📦 Checking Package Installations\")\n",
    "print(\"=\" * 50)\n",
    "\n",
    "missing_packages = []\n",
    "installed_packages = []\n",
    "\n",
    "for package in packages_to_check:\n",
    "    try:\n",
    "        # Handle special case for scikit-learn import name\n",
    "        module_name = package\n",
    "        if package == \"scikit-learn\":\n",
    "            module_name = \"sklearn\"\n",
    "        \n",
    "        module = __import__(module_name.replace(\"-\", \"_\"))\n",
    "        version = getattr(module, \"__version__\", \"unknown\")\n",
    "        print(f\"✅ {package:<20} v{version}\")\n",
    "        installed_packages.append(package)\n",
    "    except ImportError:\n",
    "        print(f\"❌ {package:<20} NOT INSTALLED\")\n",
    "        missing_packages.append(package)\n",
    "\n",
    "print(\"=\" * 50)\n",
    "print(f\"\\n📊 Summary: {len(installed_packages)}/{len(packages_to_check)} packages installed\")\n",
    "\n",
    "if missing_packages:\n",
    "    print(f\"\\n⚠️  Missing packages: {', '.join(missing_packages)}\")\n",
    "    print(\"Please run the following command in your terminal:\")\n",
    "    print(f\"pip install {' '.join(missing_packages)}\")\n",
    "else:\n",
    "    print(\"\\n🎉 All essential packages for this module are installed correctly!\")"
   ]
  },
  {
   "cell_type": "markdown",
   "id": "133f38d7",
   "metadata": {},
   "source": [
    "## 3️⃣ GPU Availability Check\n",
    "\n",
    "Check if GPU is available for deep learning workloads."
   ]
  },
  {
   "cell_type": "code",
   "execution_count": null,
   "id": "2b62f596",
   "metadata": {},
   "outputs": [],
   "source": [
    "import torch\n",
    "\n",
    "print(\"🖥️  GPU Availability Check\")\n",
    "print(\"=\" * 50)\n",
    "\n",
    "# Check CUDA availability\n",
    "cuda_available = torch.cuda.is_available()\n",
    "print(f\"CUDA Available: {cuda_available}\")\n",
    "\n",
    "if cuda_available:\n",
    "    print(f\"✅ GPU Detected: {torch.cuda.get_device_name(0)}\")\n",
    "    print(f\"CUDA Version: {torch.version.cuda}\")\n",
    "    print(f\"Number of GPUs: {torch.cuda.device_count()}\")\n",
    "    print(f\"Current GPU: {torch.cuda.current_device()}\")\n",
    "    \n",
    "    # Check GPU memory\n",
    "    gpu_memory = torch.cuda.get_device_properties(0).total_memory / 1e9\n",
    "    print(f\"GPU Memory: {gpu_memory:.2f} GB\")\n",
    "else:\n",
    "    print(\"⚠️  No GPU detected - will use CPU\")\n",
    "    print(\"Note: Training will be slower, but all code will work\")\n",
    "\n",
    "print(\"=\" * 50)"
   ]
  },
  {
   "cell_type": "markdown",
   "id": "7cbfd16b",
   "metadata": {},
   "source": [
    "## 4️⃣ Jupyter Notebook Essentials\n",
    "\n",
    "Learn key Jupyter notebook shortcuts and features."
   ]
  },
  {
   "cell_type": "markdown",
   "id": "daf07a14",
   "metadata": {},
   "source": [
    "### 🎯 Essential Keyboard Shortcuts\n",
    "\n",
    "**Command Mode** (press `Esc`):\n",
    "- `A` - Insert cell above\n",
    "- `B` - Insert cell below\n",
    "- `D, D` - Delete cell\n",
    "- `M` - Convert to Markdown\n",
    "- `Y` - Convert to Code\n",
    "- `Shift + Enter` - Run cell and move to next\n",
    "\n",
    "**Edit Mode** (press `Enter`):\n",
    "- `Tab` - Code completion\n",
    "- `Shift + Tab` - Show documentation\n",
    "- `Ctrl + /` - Comment/uncomment\n",
    "\n",
    "### 💡 Magic Commands\n",
    "\n",
    "Jupyter has special \"magic\" commands:"
   ]
  },
  {
   "cell_type": "code",
   "execution_count": null,
   "id": "55fc949a",
   "metadata": {},
   "outputs": [],
   "source": [
    "# Time execution of code\n",
    "%timeit sum(range(1000))\n",
    "\n",
    "# Run shell commands\n",
    "!echo \"Hello from the shell!\"\n",
    "\n",
    "# Show matplotlib plots inline\n",
    "%matplotlib inline\n",
    "\n",
    "# Display all variables\n",
    "%whos"
   ]
  },
  {
   "cell_type": "markdown",
   "id": "0135052a",
   "metadata": {},
   "source": [
    "## 5️⃣ Git Setup for Version Control\n",
    "\n",
    "Set up Git to track your progress and collaborate."
   ]
  },
  {
   "cell_type": "code",
   "execution_count": null,
   "id": "9651dc5e",
   "metadata": {},
   "outputs": [],
   "source": [
    "# Check Git installation\n",
    "!git --version\n",
    "\n",
    "# Configure Git (update with your info)\n",
    "# !git config --global user.name \"Your Name\"\n",
    "# !git config --global user.email \"your.email@example.com\"\n",
    "\n",
    "# Show current Git config\n",
    "!git config --list"
   ]
  },
  {
   "cell_type": "markdown",
   "id": "0ce6aee7",
   "metadata": {},
   "source": [
    "## 🎉 Congratulations!\n",
    "\n",
    "You've successfully:\n",
    "- ✅ Verified your Python environment\n",
    "- ✅ Checked all package installations\n",
    "- ✅ Tested GPU availability\n",
    "- ✅ Learned Jupyter essentials\n",
    "- ✅ Configured Git\n",
    "\n",
    "### 📚 Next Steps\n",
    "\n",
    "Continue to **Notebook 02: Python Essentials** to review Python fundamentals!\n",
    "\n",
    "---\n",
    "\n",
    "### 💬 Need Help?\n",
    "\n",
    "- 📖 Check the [FAQ.md](../FAQ.md)\n",
    "- 🐛 Review the [GETTING_STARTED.md](../GETTING_STARTED.md)\n",
    "- 💡 Ask questions in the discussion forum\n",
    "\n",
    "---\n",
    "\n",
    "<div align=\"center\">\n",
    "<b>Happy Learning! 🚀</b>\n",
    "</div>"
   ]
  }
 ],
 "metadata": {
  "language_info": {
   "name": "python"
  }
 },
 "nbformat": 4,
 "nbformat_minor": 5
}
