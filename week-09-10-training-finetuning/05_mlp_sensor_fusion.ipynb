{
 "cells": [
  {
   "cell_type": "markdown",
   "id": "9828bc18",
   "metadata": {},
   "source": [
    "# 🔌 Week 09-10 · Notebook 05 · MLP Implementation for Sensor Fusion\n",
    "\n",
    "Blend tabular sensor data with textual maintenance annotations to predict downtime risk."
   ]
  },
  {
   "cell_type": "markdown",
   "id": "c19d8a9f",
   "metadata": {},
   "source": [
    "## 🎯 Learning Objectives\n",
    "- Build a PyTorch MLP that ingests fused sensor + text embedding features.\n",
    "- Engineer weighted loss functions reflecting production cost of downtime.\n",
    "- Analyze feature importance to drive maintenance prioritization.\n",
    "- Produce model documentation for cross-functional review."
   ]
  },
  {
   "cell_type": "markdown",
   "id": "a8241a8e",
   "metadata": {},
   "source": [
    "## 🧩 Scenario\n",
    "Production planners want an early warning score that combines vibration sensors, temperature readings, and technician notes. False negatives can cause unplanned downtime costing ₹4 lakh per hour."
   ]
  },
  {
   "cell_type": "code",
   "execution_count": null,
   "id": "c739a3ab",
   "metadata": {},
   "outputs": [],
   "source": [
    "import torch\n",
    "import torch.nn as nn\n",
    "import torch.nn.functional as F\n",
    "from torch.utils.data import Dataset, DataLoader\n",
    "import pandas as pd\n",
    "import numpy as np\n",
    "\n",
    "torch.manual_seed(2025)"
   ]
  },
  {
   "cell_type": "markdown",
   "id": "fcc44291",
   "metadata": {},
   "source": [
    "## 📦 Synthetic Sensor + Text Features\n",
    "- Sensor block: vibration RMS, temperature, humidity, power draw.\n",
    "- Text block: 8-dim embeddings from prior notebook (placeholder)."
   ]
  },
  {
   "cell_type": "code",
   "execution_count": null,
   "id": "aca090da",
   "metadata": {},
   "outputs": [],
   "source": [
    "def create_dataset(num_samples=800):\n",
    "    sensor = np.random.normal(loc=[0.8, 60, 45, 15], scale=[0.2, 8, 12, 4], size=(num_samples, 4))\n",
    "    text_embed = np.random.normal(size=(num_samples, 8))\n",
    "    combined = np.concatenate([sensor, text_embed], axis=1)\n",
    "    risk = (\n",
    "    labels = (risk > 0.5).astype(np.float32)\n",
    "    return combined.astype(np.float32), labels.reshape(-1, 1)\n",
    "\n",
    "features, labels = create_dataset()\n",
    "features.shape, labels.mean()"
   ]
  },
  {
   "cell_type": "code",
   "execution_count": null,
   "id": "f4ab4761",
   "metadata": {},
   "outputs": [],
   "source": [
    "class SensorFusionDataset(Dataset):\n",
    "    def __init__(self, features, labels):\n",
    "        self.features = torch.tensor(features)\n",
    "        self.labels = torch.tensor(labels)\n",
    "\n",
    "    def __len__(self):\n",
    "        return len(self.features)\n",
    "\n",
    "    def __getitem__(self, idx):\n",
    "        return self.features[idx], self.labels[idx]\n",
    "\n",
    "dataset = SensorFusionDataset(features, labels)\n",
    "train_loader = DataLoader(dataset, batch_size=64, shuffle=True)"
   ]
  },
  {
   "cell_type": "markdown",
   "id": "ab120628",
   "metadata": {},
   "source": [
    "## 🧠 MLP Architecture\n",
    "- Hidden dims (64 → 32) with dropout.\n",
    "- Output probability indicates high downtime risk in the next 8 hours."
   ]
  },
  {
   "cell_type": "code",
   "execution_count": null,
   "id": "4525991a",
   "metadata": {},
   "outputs": [],
   "source": [
    "class FusionMLP(nn.Module):\n",
    "    def __init__(self, input_dim=12):\n",
    "        super().__init__()\n",
    "        self.fc1 = nn.Linear(input_dim, 64)\n",
    "        self.fc2 = nn.Linear(64, 32)\n",
    "        self.dropout = nn.Dropout(p=0.2)\n",
    "        self.fc_out = nn.Linear(32, 1)\n",
    "\n",
    "    def forward(self, x):\n",
    "        x = F.relu(self.fc1(x))\n",
    "        x = self.dropout(x)\n",
    "        x = F.relu(self.fc2(x))\n",
    "        return torch.sigmoid(self.fc_out(x))\n",
    "\n",
    "model = FusionMLP()"
   ]
  },
  {
   "cell_type": "markdown",
   "id": "0e3fb534",
   "metadata": {},
   "source": [
    "## 💸 Cost-Aware Loss Function\n",
    "Weight false negatives higher to represent lost production hours."
   ]
  },
  {
   "cell_type": "code",
   "execution_count": null,
   "id": "284724ec",
   "metadata": {},
   "outputs": [],
   "source": [
    "def cost_weighted_bce(preds, targets):\n",
    "    fn_penalty = 5.0  # ₹4 lakh/hour equivalent scaling\n",
    "    epsilon = 1e-7\n",
    "    loss = -(\n",
    "    return loss.mean()\n",
    "\n",
    "optimizer = torch.optim.Adam(model.parameters(), lr=1e-3)"
   ]
  },
  {
   "cell_type": "code",
   "execution_count": null,
   "id": "093c290a",
   "metadata": {},
   "outputs": [],
   "source": [
    "def train_epoch(loader):\n",
    "    model.train()\n",
    "    total_loss = 0.0\n",
    "    for batch_features, batch_labels in loader:"
   ]
  }
 ],
 "metadata": {
  "language_info": {
   "name": "python"
  }
 },
 "nbformat": 4,
 "nbformat_minor": 5
}
