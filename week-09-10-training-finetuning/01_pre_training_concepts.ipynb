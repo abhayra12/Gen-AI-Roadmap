{
 "cells": [
  {
   "cell_type": "markdown",
   "id": "fa88a917",
   "metadata": {},
   "source": [
    "# 🏭 Week 09-10 · Notebook 01 · Pre-Training Concepts for Manufacturing Corpora\n",
    "\n",
    "Understand how to audit, curate, and prepare manufacturing text data before launching large-scale language model pre-training."
   ]
  },
  {
   "cell_type": "markdown",
   "id": "70d8d5ff",
   "metadata": {},
   "source": [
    "## 🎯 Learning Objectives\n",
    "- Diagnose whether a manufacturing corpus is ready for masked or causal language modeling.\n",
    "- Engineer domain-specific curricula that balance routine operations with edge-case incidents.\n",
    "- Quantify coverage, freshness, and risk hotspots across maintenance, quality, and safety documents.\n",
    "- Produce a governance-ready data audit that satisfies IT/Compliance stakeholders."
   ]
  },
  {
   "cell_type": "markdown",
   "id": "752b0d7a",
   "metadata": {},
   "source": [
    "## 🧩 Scenario\n",
    "You have five years of shift logs, non-conformance reports (NCRs), maintenance tickets, and safety bulletins collected from four automotive plants. Leadership wants a maintenance co-pilot pre-trained on this corpus. Your job is to surface data gaps, compliance hazards, and curriculum strategy before anyone spins up GPUs."
   ]
  },
  {
   "cell_type": "code",
   "execution_count": null,
   "id": "bba81e29",
   "metadata": {},
   "outputs": [],
   "source": [
    "# Core libraries for profiling\n",
    "import pandas as pd\n",
    "import numpy as np\n",
    "from pathlib import Path\n",
    "import matplotlib.pyplot as plt\n",
    "\n",
    "plt.style.use('seaborn-v0_8')"
   ]
  },
  {
   "cell_type": "markdown",
   "id": "a879775f",
   "metadata": {},
   "source": [
    "## 🗂️ Sample Manufacturing Corpus\n",
    "The notebook ships with a synthetic corpus that mimics mixed-format manufacturing documents. Replace these CSV/JSON stubs with your plant exports when running in production."
   ]
  },
  {
   "cell_type": "code",
   "execution_count": null,
   "id": "45f1e977",
   "metadata": {},
   "outputs": [],
   "source": [
    "# Create a synthetic dataset with multiple document classes\n",
    "np.random.seed(42)\n",
    "documents = pd.DataFrame(["
   ]
  },
  {
   "cell_type": "code",
   "execution_count": null,
   "id": "d04297ec",
   "metadata": {},
   "outputs": [],
   "source": [
    "# Coverage summary by document type\n",
    "coverage = documents.groupby('doc_type').agg("
   ]
  },
  {
   "cell_type": "markdown",
   "id": "416d6a41",
   "metadata": {},
   "source": [
    "### 🔎 Interpretation Guidance\n",
    "- **Coverage**: Ensure high-risk document classes (e.g., safety bulletins) have sufficient volume.\n",
    "- **Curriculum Candidate**: Stage training from routine shift logs → maintenance tickets → high-severity NCRs.\n",
    "- **Action**: Flag doc types with <10% representation for synthetic augmentation or targeted collection."
   ]
  },
  {
   "cell_type": "code",
   "execution_count": null,
   "id": "62ce5ee4",
   "metadata": {},
   "outputs": [],
   "source": [
    "# Freshness analysis: days since last update\n",
    "today = pd.Timestamp('2025-10-13')\n",
    "documents['days_stale'] = (today - documents['last_updated']).dt.days\n",
    "staleness = documents.groupby('doc_type')['days_stale'].describe()[['mean', '50%','max']]"
   ]
  },
  {
   "cell_type": "markdown",
   "id": "ebb65e98",
   "metadata": {},
   "source": [
    "### 🧭 Governance Check\n",
    "- Define a freshness SLA: e.g.,  180 days for maintenance tickets,  90 days for safety bulletins.\n",
    "- Trigger review workflows if `max`  730 days (stale procedures).\n",
    "- Document exceptions and notify plant managers for updates."
   ]
  },
  {
   "cell_type": "code",
   "execution_count": null,
   "id": "e20d6821",
   "metadata": {},
   "outputs": [],
   "source": [
    "# Visualize plant-wise distribution and PII risk\n",
    "fig, axes = plt.subplots(1, 2, figsize=(14, 5))\n",
    "documents.groupby('plant').size().plot(kind='bar', ax=axes[0], title='Documents per Plant', color='#1f77b4')\n",
    "documents.groupby('pii_flags').size().plot(kind='bar', ax=axes[1], title='PII Flags', color='#d62728')\n",
    "for ax in axes:"
   ]
  },
  {
   "cell_type": "markdown",
   "id": "63e11f71",
   "metadata": {},
   "source": [
    "## 🧱 Masked vs. Causal LM Readiness\n",
    "| Dimension | Masked LM Proof Points | Causal LM Proof Points | Manufacturing Notes |"
   ]
  },
  {
   "cell_type": "code",
   "execution_count": null,
   "id": "41de5275",
   "metadata": {},
   "outputs": [],
   "source": [
    "# Risk scoring heuristic to prioritize governance reviews\n",
    "risk_weights = {\n",
    "documents['governance_risk'] = documents.apply(lambda row: risk_weights[row['doc_type']] + (2 if row['pii_flags'] != 'none' else 0) + (1 if row['days_stale'] > 365 else 0) + (2 if row['safety_sensitive'] else 0), axis=1)\n",
    "risk_summary = documents.groupby('plant')['governance_risk'].mean().sort_values(ascending=False)"
   ]
  },
  {
   "cell_type": "markdown",
   "id": "ba81507d",
   "metadata": {},
   "source": [
    "### 🛡️ Risk Register Template\n",
    "- Plants with average risk  6 require Compliance sign-off before data export.\n",
    "- Flag PII types and note anonymization method (hash, redact, aggregate).\n",
    "- Capture risks in ISO 9001 change log with mitigation owners."
   ]
  },
  {
   "cell_type": "markdown",
   "id": "1d6c0b5f",
   "metadata": {},
   "source": [
    "## 🧪 Lab Assignment\n",
    "1. Replace the synthetic dataset with your plant corpus exports (CSV/JSON/PDF).\n",
    "2. Extend the freshness SLA by equipment criticality and create alert rules.\n",
    "3. Propose a three-phase curriculum schedule and justify each phase with metrics.\n",
    "4. Present a governance report to IT + Compliance with risk scores and mitigation actions."
   ]
  },
  {
   "cell_type": "markdown",
   "id": "c9b658fc",
   "metadata": {},
   "source": [
    "## ✅ Checklist\n",
    "- [ ] Corpus inventoried with volume, freshness, and language breakdown\n",
    "- [ ] PII and safety-sensitive text cataloged with mitigation plan\n",
    "- [ ] Curriculum roadmap drafted and validated with SMEs\n",
    "- [ ] Governance report delivered to stakeholders"
   ]
  },
  {
   "cell_type": "markdown",
   "id": "693788af",
   "metadata": {},
   "source": [
    "## 📚 References\n",
    "- *ISO 9001:2015 Quality Management Systems*\n",
    "- *OSHA Recordkeeping Guidelines*\n",
    "- HuggingFace Datasets: [Data Curation Playbook](https://huggingface.co/docs/datasets/main/en/process)\n",
    "- NVIDIA: *Data-Centric AI for Industrial Use Cases* (2024)"
   ]
  }
 ],
 "metadata": {
  "language_info": {
   "name": "python"
  }
 },
 "nbformat": 4,
 "nbformat_minor": 5
}
