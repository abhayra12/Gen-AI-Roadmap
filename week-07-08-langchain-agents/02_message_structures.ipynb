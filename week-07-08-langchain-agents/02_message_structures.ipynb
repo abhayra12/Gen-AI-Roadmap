{
 "cells": [
  {
   "cell_type": "markdown",
   "id": "03310182",
   "metadata": {},
   "source": [
    "# 💬 Week 07-08 · Notebook 02 · Message Structures & Conversational Safety\n",
    "\n",
    "Craft resilient multi-turn conversations using LangChain message objects while satisfying bilingual support and compliance checks."
   ]
  },
  {
   "cell_type": "markdown",
   "id": "801ebff8",
   "metadata": {},
   "source": [
    "## 🎯 Learning Objectives\n",
    "- Differentiate `SystemMessage`, `HumanMessage`, `AIMessage`, and `FunctionMessage` in manufacturing workflows.\n",
    "- Apply safety disclaimers and language toggles consistently across conversations.\n",
    "- Persist conversational state for shift hand-offs with audit-ready metadata.\n",
    "- Simulate bilingual dialogue for cross-plant collaboration."
   ]
  },
  {
   "cell_type": "markdown",
   "id": "d7e75d33",
   "metadata": {},
   "source": [
    "## 🧩 Scenario\n",
    "Technicians in Pune (English) and Monterrey (Spanish) collaborate on a spindle vibration issue. Messages must remain in policy-compliant format, capturing translation provenance for post-mortems."
   ]
  },
  {
   "cell_type": "code",
   "execution_count": null,
   "id": "fd5946b6",
   "metadata": {},
   "outputs": [],
   "source": [
    "from langchain.schema import SystemMessage, HumanMessage, AIMessage\n",
    "\n",
    "system_msg = SystemMessage(content='Eres un asistente bilingüe que responde en el idioma del técnico. Siempre incluye advertencias de seguridad y referencias a SOP.')\n",
    "human_msg_en = HumanMessage(content='Press 7 is overheating after the lubricant swap. What should we check?')\n",
    "ai_response_en = AIMessage(content='Step 1: Verify coolant flow... (SOP-122 §3.1). Safety: Lockout-tagout before inspection.')\n",
    "human_msg_es = HumanMessage(content='Los sensores marcan temperatura alta en el husillo. Hay pasos adicionales?')\n",
    "\n",
    "conversation = [system_msg, human_msg_en, ai_response_en, human_msg_es]"
   ]
  },
  {
   "cell_type": "markdown",
   "id": "03d1eed0",
   "metadata": {},
   "source": [
    "### 🗣️ Language Detection & Switching\n",
    "Use LangChain callbacks or middleware to detect language and switch prompts dynamically."
   ]
  },
  {
   "cell_type": "code",
   "execution_count": null,
   "id": "8c9e5383",
   "metadata": {},
   "outputs": [],
   "source": [
    "from langchain_openai import ChatOpenAI\n",
    "from langchain.schema import SystemMessage, HumanMessage\n",
    "\n",
    "# A simple language detection heuristic for the example\n",
    "def detect_language(text: str) -> str:\n",
    "    \"\"\"\n",
    "    Mock language detection. In a real application, use a robust library \n",
    "    like langdetect or a dedicated API.\n",
    "    \"\"\"\n",
    "    spanish_indicators = ['los', 'en', 'hay', 'un', 'una', 'temperatura', 'alta']\n",
    "    if any(word in text.lower() for word in spanish_indicators):\n",
    "        return 'es'\n",
    "    return 'en'\n",
    "\n",
    "llm = ChatOpenAI(model='gpt-4o-mini', temperature=0.3)\n",
    "\n",
    "# Get the last human message from the conversation history\n",
    "last_human_message = human_msg_es\n",
    "\n",
    "# Detect language and set the appropriate system prompt\n",
    "language = detect_language(last_human_message.content)\n",
    "if language == 'es':\n",
    "    prompt_prefix = SystemMessage(content='Responde en español con pasos accionables y advertencias de seguridad.')\n",
    "else:\n",
    "    prompt_prefix = SystemMessage(content='Respond in English with clear steps and safety warnings.')\n",
    "\n",
    "# Construct the message list for the LLM, including the dynamic system prompt\n",
    "messages_for_llm = conversation + [prompt_prefix]\n",
    "\n",
    "# Invoke the model\n",
    "completion = llm.invoke(messages_for_llm)\n",
    "\n",
    "print(f\"Detected Language: '{language}'\")\n",
    "print(\"---\")\n",
    "print(f\"AI Response:\\n{completion.content}\")"
   ]
  },
  {
   "cell_type": "markdown",
   "id": "bd2dab00",
   "metadata": {},
   "source": [
    "## 🧾 Conversation Log Schema\n",
    "| Field | Description | Required |\n",
    "- Store logs in encrypted storage with retention policy (7 years per legal)."
   ]
  },
  {
   "cell_type": "markdown",
   "id": "ed589d49",
   "metadata": {},
   "source": [
    "## 🧪 Lab Assignment\n",
    "1. Implement a conversational buffer that trims history beyond 12 turns while preserving key instructions.\n",
    "2. Add translation provenance metadata (`translated_from`) when language switches.\n",
    "3. Generate a bilingual escalation message for EHS incidents requiring supervisor approval.\n",
    "4. Validate conversation logs against the schema and export to JSONL for audits."
   ]
  },
  {
   "cell_type": "markdown",
   "id": "5eab64a0",
   "metadata": {},
   "source": [
    "## ✅ Checklist\n",
    "- [ ] Bilingual conversation flow implemented\n",
    "- [ ] Language detection controls in place\n",
    "- [ ] Conversation logs schema enforced\n",
    "- [ ] Lab deliverables reviewed with SMEs"
   ]
  },
  {
   "cell_type": "markdown",
   "id": "8221d71b",
   "metadata": {},
   "source": [
    "## 📚 References\n",
    "- LangChain Message Reference\n",
    "- ISO 45001 Safety Communication Standards\n",
    "- Week 05-06 Governance Utilities"
   ]
  }
 ],
 "metadata": {
  "language_info": {
   "name": "python"
  }
 },
 "nbformat": 4,
 "nbformat_minor": 5
}
