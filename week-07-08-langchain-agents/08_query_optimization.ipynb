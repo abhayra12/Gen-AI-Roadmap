{
 "cells": [
  {
   "cell_type": "markdown",
   "id": "25ae7432",
   "metadata": {},
   "source": [
    "# 🛣️ Week 07-08 · Notebook 08 · Query Optimization & Routing\n",
    "\n",
    "Design routing logic that directs technician queries to the best retrieval path or tool while enforcing policy."
   ]
  },
  {
   "cell_type": "markdown",
   "id": "8d8f71bb",
   "metadata": {},
   "source": [
    "## 🎯 Learning Objectives\n",
    "- Implement classifier-based routing using LangChain.\n",
    "- Build conditional pipelines that swap prompts/tools per plant and language.\n",
    "- Enforce risk-based routing (e.g., EHS incidents escalate to SME).\n",
    "- Log routing decisions for compliance."
   ]
  },
  {
   "cell_type": "markdown",
   "id": "f9693abc",
   "metadata": {},
   "source": [
    "## 🧩 Scenario\n",
    "Bilingual technicians submit tickets. The system must detect Spanish queries, route to translation-enabled retrieval, and escalate high-risk EHS issues directly to human review."
   ]
  },
  {
   "cell_type": "code",
   "execution_count": null,
   "id": "49ad4fec",
   "metadata": {},
   "outputs": [],
   "source": [
    "from langchain_core.prompts import ChatPromptTemplate\n",
    "from langchain_openai import ChatOpenAI\n",
    "from langchain_core.output_parsers import StrOutputParser\n",
    "from langchain_core.runnables import RunnableBranch\n",
    "\n",
    "# --- 1. Define the different \"expert\" chains ---\n",
    "\n",
    "# Prompt for a maintenance-focused assistant\n",
    "maintenance_template = \"\"\"You are an expert in mechanical maintenance. \n",
    "Answer the following question concisely based on standard procedures.\n",
    "Question: {question}\"\"\"\n",
    "maintenance_prompt = ChatPromptTemplate.from_template(maintenance_template)\n",
    "\n",
    "# Prompt for a quality control-focused assistant\n",
    "quality_template = \"\"\"You are an expert in quality control and inspection. \n",
    "Answer the following question with a focus on ISO 9001 compliance.\n",
    "Question: {question}\"\"\"\n",
    "quality_prompt = ChatPromptTemplate.from_template(quality_template)\n",
    "\n",
    "# LLM for the expert chains\n",
    "llm = ChatOpenAI(model='gpt-4o-mini', temperature=0.1)\n",
    "\n",
    "# Build the expert chains\n",
    "maintenance_chain = maintenance_prompt | llm | StrOutputParser()\n",
    "quality_chain = quality_prompt | llm | StrOutputParser()\n",
    "\n",
    "\n",
    "# --- 2. Define the Routing Logic ---\n",
    "\n",
    "# A prompt to classify the user's question\n",
    "routing_template = \"\"\"Given the user question below, classify it as either 'maintenance' or 'quality'.\n",
    "Do not respond with more than one word.\n",
    "\n",
    "<question>\n",
    "{question}\n",
    "</question>\n",
    "\n",
    "Classification:\"\"\"\n",
    "routing_prompt = ChatPromptTemplate.from_template(routing_template)\n",
    "\n",
    "# The classification chain\n",
    "classification_chain = routing_prompt | llm | StrOutputParser()\n",
    "\n",
    "\n",
    "# --- 3. Create the RunnableBranch ---\n",
    "# This is the core of the routing logic. It directs the input to the correct chain.\n",
    "# It takes a list of (condition, runnable) pairs and a default runnable.\n",
    "# The condition is a function that returns True or False.\n",
    "branch = RunnableBranch(\n",
    "    (lambda x: \"maintenance\" in x[\"topic\"].lower(), maintenance_chain),\n",
    "    (lambda x: \"quality\" in x[\"topic\"].lower(), quality_chain),\n",
    "    maintenance_chain  # Default chain\n",
    ")\n",
    "\n",
    "# --- 4. Combine into a full chain ---\n",
    "# The full chain first classifies the topic, then the branch executes the correct expert chain.\n",
    "full_chain = {\"topic\": classification_chain, \"question\": lambda x: x[\"question\"]} | branch\n",
    "\n",
    "# --- 5. Execute the router ---\n",
    "question_mq = \"The surface finish on part #789 is out of spec. What should be the inspection process?\"\n",
    "question_maint = \"Los sensores registran temperatura alta en el husillo.\" # \"The sensors are recording high temperature in the spindle.\"\n",
    "\n",
    "print(\"--- Running Quality Control Query ---\")\n",
    "print(f\"Question: {question_mq}\")\n",
    "result_qc = full_chain.invoke({\"question\": question_mq})\n",
    "print(f\"Answer:\\n{result_qc}\\n\")\n",
    "\n",
    "print(\"--- Running Maintenance Query ---\")\n",
    "print(f\"Question: {question_maint}\")\n",
    "result_maint = full_chain.invoke({\"question\": question_maint})\n",
    "print(f\"Answer:\\n{result_maint}\")"
   ]
  },
  {
   "cell_type": "markdown",
   "id": "7a394dd5",
   "metadata": {},
   "source": [
    "### ⚠️ Risk Routing\n",
    "Define policy: if query matches EHS keywords (\"hazard\", \"injury\"), bypass automation and escalate to SME while providing immediate safety guidance."
   ]
  },
  {
   "cell_type": "code",
   "execution_count": null,
   "id": "8a31d550",
   "metadata": {},
   "outputs": [],
   "source": [
    "# Define keywords that trigger an escalation to a human SME (Subject Matter Expert)\n",
    "EHS_TERMS = {'hazard', 'injury', 'fatal', 'spill', 'arc flash', 'fire', 'emergency'}\n",
    "\n",
    "def determine_risk_route(query: str) -> str:\n",
    "    \"\"\"\n",
    "    Determines the routing path based on query content.\n",
    "    'sme_escalation' for high-risk EHS terms, 'standard_rag' otherwise.\n",
    "    \"\"\"\n",
    "    if any(term in query.lower() for term in EHS_TERMS):\n",
    "        return 'sme_escalation'\n",
    "    return 'standard_rag'\n",
    "\n",
    "# --- Example Usage ---\n",
    "queries = [\n",
    "    'Arc flash detected near Panel 4. What is the emergency procedure?',\n",
    "    'Necesitamos calibrar el husillo.', # \"We need to calibrate the spindle.\"\n",
    "    'There is a small chemical spill in the plating area.'\n",
    "]\n",
    "\n",
    "routes = {q: determine_risk_route(q) for q in queries}\n",
    "\n",
    "for query, route in routes.items():\n",
    "    print(f\"Query: '{query}'\\nRoute: {route}\\n\")\n",
    "\n",
    "# In a full application, you would use another RunnableBranch here.\n",
    "# For example:\n",
    "#\n",
    "# sme_chain = (lambda x: \"EMERGENCY: Human intervention required for query: \" + x[\"question\"])\n",
    "# risk_branch = RunnableBranch(\n",
    "#     (lambda x: determine_risk_route(x[\"question\"]) == 'sme_escalation', sme_chain),\n",
    "#     full_chain # The standard RAG/expert chain from before\n",
    "# )\n",
    "#\n",
    "# print(risk_branch.invoke({\"question\": \"There is a fire in the warehouse!\"}))"
   ]
  },
  {
   "cell_type": "markdown",
   "id": "ea6bd999",
   "metadata": {},
   "source": [
    "## 🧪 Lab Assignment\n",
    "1. Integrate retrieval chains per route and benchmark routing accuracy.\n",
    "2. Store routing decision logs in BigQuery with user ID, timestamp, risk level.\n",
    "3. Add A/B test toggles to evaluate new routing classifiers.\n",
    "4. Present routing coverage metrics to the safety council."
   ]
  },
  {
   "cell_type": "markdown",
   "id": "12b74c49",
   "metadata": {},
   "source": [
    "## ✅ Checklist\n",
    "- [ ] Routing logic covers bilingual queries\n",
    "- [ ] EHS escalation paths documented\n",
    "- [ ] Logs captured for audits\n",
    "- [ ] Lab deliverables accepted"
   ]
  },
  {
   "cell_type": "markdown",
   "id": "e8675b38",
   "metadata": {},
   "source": [
    "## 📚 References\n",
    "- LangChain Router Chains\n",
    "- Corporate EHS Escalation SOP\n",
    "- Week 05 Data Governance Notebook"
   ]
  }
 ],
 "metadata": {
  "language_info": {
   "name": "python"
  }
 },
 "nbformat": 4,
 "nbformat_minor": 5
}
