{
 "cells": [
  {
   "cell_type": "markdown",
   "id": "d32c1b4a",
   "metadata": {},
   "source": [
    "# 🧩 Week 07-08 · Notebook 03 · Prompt Templates & Chain Composition\n",
    "\n",
    "Engineer reusable prompt templates and compose LCEL chains that adapt to plant-specific policies."
   ]
  },
  {
   "cell_type": "markdown",
   "id": "b103fb80",
   "metadata": {},
   "source": [
    "## 🎯 Learning Objectives\n",
    "- Build parameterized `ChatPromptTemplate` objects with manufacturing metadata.\n",
    "- Compose LCEL chains that inject plant configuration (language, compliance grade).\n",
    "- Create reusable evaluators that test prompt outputs before deployment.\n",
    "- Capture template lineage for change-management approval."
   ]
  },
  {
   "cell_type": "markdown",
   "id": "55e8c4e6",
   "metadata": {},
   "source": [
    "## 🧩 Scenario\n",
    "Corporate safety updated lockout/tagout wording. Prompts must absorb the change across plants without manual edits per notebook."
   ]
  },
  {
   "cell_type": "code",
   "execution_count": null,
   "id": "db4d599a",
   "metadata": {},
   "outputs": [],
   "source": [
    "from langchain.prompts import ChatPromptTemplate\n",
    "from langchain_core.output_parsers import StrOutputParser\n",
    "from langchain_openai import ChatOpenAI\n",
    "\n",
    "# Plant-specific configuration that can be dynamically loaded\n",
    "plant_config = {\n",
    "    \"plant_id\": \"PUNE-01\",\n",
    "    \"language\": \"en\",\n",
    "    \"compliance_grade\": \"ISO 9001\",\n",
    "    \"safety_disclaimer\": \"CRITICAL: Always follow Lockout/Tagout procedures (SOP-900) before maintenance. Verify zero energy state.\"\n",
    "}\n",
    "\n",
    "# Parameterized template that pulls from the config and runtime inputs\n",
    "template_string = \"\"\"\n",
    "You are a Manufacturing Copilot for Plant {plant_id}.\n",
    "Your response must adhere to {compliance_grade} standards.\n",
    "Language: {language}\n",
    "\n",
    "Safety Disclaimer: {safety_disclaimer}\n",
    "\n",
    "---\n",
    "Context from SOP:\n",
    "{sop_snippet}\n",
    "\n",
    "---\n",
    "Question:\n",
    "{question}\n",
    "\n",
    "Provide a concise answer based ONLY on the provided SOP context.\n",
    "\"\"\"\n",
    "\n",
    "prompt = ChatPromptTemplate.from_template(template_string)\n",
    "\n",
    "llm = ChatOpenAI(model='gpt-4o-mini', temperature=0)\n",
    "chain = prompt | llm | StrOutputParser()\n",
    "\n",
    "# Invoke the chain with both config and runtime variables\n",
    "answer = chain.invoke({\n",
    "    \"plant_id\": plant_config[\"plant_id\"],\n",
    "    \"language\": plant_config[\"language\"],\n",
    "    \"compliance_grade\": plant_config[\"compliance_grade\"],\n",
    "    \"safety_disclaimer\": plant_config[\"safety_disclaimer\"],\n",
    "    \"sop_snippet\": \"SOP-112, Section 4.1 states: 'The primary hydraulic pump requires filter replacement every 500 operating hours or 3 months, whichever comes first.'\",\n",
    "    \"question\": \"How often do I need to replace the hydraulic pump filter?\"\n",
    "})\n",
    "\n",
    "print(answer)"
   ]
  },
  {
   "cell_type": "markdown",
   "id": "fda205c1",
   "metadata": {},
   "source": [
    "### 🧪 Template Regression Harness\n",
    "Create an automated test to verify the disclaimer appears and citations reference SOP IDs."
   ]
  },
  {
   "cell_type": "code",
   "execution_count": null,
   "id": "73206926",
   "metadata": {},
   "outputs": [],
   "source": [
    "import re\n",
    "\n",
    "def validate_response(text: str, config: dict) -> dict:\n",
    "    \"\"\"\n",
    "    Validates the LLM response against key requirements.\n",
    "    \"\"\"\n",
    "    disclaimer = config.get(\"safety_disclaimer\", \"\")\n",
    "    \n",
    "    validation_results = {\n",
    "        \"has_disclaimer\": disclaimer in text,\n",
    "        \"has_sop_citation\": bool(re.search(r\"SOP-\\d+\", text)),\n",
    "        \"is_concise\": len(text.split()) < 75  # Example constraint\n",
    "    }\n",
    "    return validation_results\n",
    "\n",
    "# Run validation\n",
    "validation = validate_response(answer, plant_config)\n",
    "\n",
    "# Assertions for automated testing\n",
    "assert validation['has_disclaimer'], 'Safety disclaimer missing from response!'\n",
    "assert validation['has_sop_citation'], 'SOP citation is missing from response!'\n",
    "\n",
    "print(\"Validation Results:\")\n",
    "print(validation)"
   ]
  },
  {
   "cell_type": "markdown",
   "id": "1a8d99bf",
   "metadata": {},
   "source": [
    "## 🔄 Template Versioning\n",
    "| Field | Example | Purpose |\n",
    "| --- | --- | --- |\n",
    "| `template_id` | `PROMPT_MAINT_TRIAGE_V4` | Unique reference |"
   ]
  },
  {
   "cell_type": "markdown",
   "id": "7767c499",
   "metadata": {},
   "source": [
    "## 🧪 Lab Assignment\n",
    "1. Localize the template to Spanish and verify disclaimers translate correctly.\n",
    "2. Extend the chain with a retrieval step pulling the latest SOP snippet before answering.\n",
    "3. Store template metadata in MLflow parameters when executing chains.\n",
    "4. Capture test outputs and attach to the change-approval ticket."
   ]
  },
  {
   "cell_type": "markdown",
   "id": "0675a9f7",
   "metadata": {},
   "source": [
    "## ✅ Checklist\n",
    "- [ ] Prompt templates parameterized\n",
    "- [ ] Regression harness created\n",
    "- [ ] Template metadata logged\n",
    "- [ ] Lab artefacts archived"
   ]
  },
  {
   "cell_type": "markdown",
   "id": "fd19fae9",
   "metadata": {},
   "source": [
    "## 📚 References\n",
    "- LangChain Expression Language (LCEL) Guide\n",
    "- Corporate Lockout/Tagout SOP-900\n",
    "- MLflow Parameter Logging Examples"
   ]
  }
 ],
 "metadata": {
  "language_info": {
   "name": "python"
  }
 },
 "nbformat": 4,
 "nbformat_minor": 5
}
