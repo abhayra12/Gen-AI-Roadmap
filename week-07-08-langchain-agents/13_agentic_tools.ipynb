{
 "cells": [
  {
   "cell_type": "markdown",
   "id": "ff4563dc",
   "metadata": {},
   "source": [
    "# 🧰 Week 07-08 · Notebook 13 · Custom Tools & Multi-Tool Agents\n",
    "\n",
    "Extend agents with async, concurrent tools and robust error handling tailored to manufacturing ops."
   ]
  },
  {
   "cell_type": "markdown",
   "id": "0f3e0cb1",
   "metadata": {},
   "source": [
    "## 🎯 Learning Objectives\n",
    "- Build custom LangChain tools with validation and retries.\n",
    "- Handle async tool execution for parallel data pulls.\n",
    "- Log tool performance metrics (latency, success rate).\n",
    "- Capture incidents when tools fail to maintain compliance."
   ]
  },
  {
   "cell_type": "markdown",
   "id": "49cf1d1f",
   "metadata": {},
   "source": [
    "## 🧩 Scenario\n",
    "Agent needs to pull sensor readings and maintenance logs simultaneously. Tools must degrade gracefully if one data source is offline."
   ]
  },
  {
   "cell_type": "code",
   "execution_count": null,
   "id": "bb0cb6ec",
   "metadata": {},
   "outputs": [],
   "source": [
    "import asyncio\n",
    "import random\n",
    "import time\n",
    "from langchain.tools import BaseTool\n",
    "from pydantic import Field, BaseModel\n",
    "from typing import Type\n",
    "\n",
    "# --- 1. Define Tool with Pydantic for structured inputs ---\n",
    "class SensorInput(BaseModel):\n",
    "    equipment_id: str = Field(description=\"The unique identifier for the equipment, e.g., 'Press-14'.\")\n",
    "\n",
    "class SensorTool(BaseTool):\n",
    "    name = \"SensorReader\"\n",
    "    description = \"Reads the latest sensor data (vibration, temperature) for a specific piece of equipment.\"\n",
    "    args_schema: Type[BaseModel] = SensorInput\n",
    "\n",
    "    def _run(self, equipment_id: str) -> dict:\n",
    "        \"\"\"Synchronous execution of the tool.\"\"\"\n",
    "        print(f\"Reading sensor data for {equipment_id}...\")\n",
    "        # Simulate API call\n",
    "        time.sleep(0.5)\n",
    "        return {\n",
    "            \"vibration_mm_s\": round(random.uniform(5.0, 15.0), 2),\n",
    "            \"temperature_c\": round(random.uniform(60.0, 95.0), 2)\n",
    "        }\n",
    "\n",
    "    async def _arun(self, equipment_id: str) -> dict:\n",
    "        \"\"\"Asynchronous execution for parallel runs.\"\"\"\n",
    "        print(f\"Asynchronously reading sensor data for {equipment_id}...\")\n",
    "        # Simulate async API call\n",
    "        await asyncio.sleep(random.uniform(0.5, 1.5))\n",
    "        if random.random() < 0.1: # Simulate a 10% failure rate\n",
    "            raise ConnectionError(f\"Failed to connect to sensor API for {equipment_id}\")\n",
    "        return {\n",
    "            \"vibration_mm_s\": round(random.uniform(5.0, 15.0), 2),\n",
    "            \"temperature_c\": round(random.uniform(60.0, 95.0), 2)\n",
    "        }\n",
    "\n",
    "# --- 2. Define another async tool for maintenance logs ---\n",
    "class MaintenanceLogInput(BaseModel):\n",
    "    ticket_id: str = Field(description=\"The ID of the maintenance ticket, e.g., 'TICKET-552'.\")\n",
    "\n",
    "class MaintenanceLogTool(BaseTool):\n",
    "    name = \"MaintenanceLogFetcher\"\n",
    "    description = \"Fetches details from a maintenance log ticket.\"\n",
    "    args_schema: Type[BaseModel] = MaintenanceLogInput\n",
    "\n",
    "    def _run(self, ticket_id: str) -> str:\n",
    "        raise NotImplementedError(\"This tool only supports async execution.\")\n",
    "\n",
    "    async def _arun(self, ticket_id: str) -> str:\n",
    "        \"\"\"Asynchronously fetches maintenance log details.\"\"\"\n",
    "        print(f\"Asynchronously fetching log for {ticket_id}...\")\n",
    "        await asyncio.sleep(random.uniform(0.2, 0.8))\n",
    "        return f\"Log for {ticket_id}: Bearing was replaced by Technician [REDACTED]. Root cause was insufficient lubrication.\"\n",
    "\n",
    "# Instantiate the tools\n",
    "sensor_tool = SensorTool()\n",
    "log_tool = MaintenanceLogTool()"
   ]
  },
  {
   "cell_type": "markdown",
   "id": "54934590",
   "metadata": {},
   "source": [
    "### 🧵 Concurrent Tool Execution\n",
    "Execute tools in parallel using `asyncio.gather` and capture failures."
   ]
  },
  {
   "cell_type": "code",
   "execution_count": null,
   "id": "b7ffaa51",
   "metadata": {},
   "outputs": [],
   "source": [
    "async def gather_data(equipment_id: str, ticket_id: str):\n",
    "    \"\"\"\n",
    "    Gathers sensor data and maintenance logs concurrently and handles failures gracefully.\n",
    "    \"\"\"\n",
    "    start_time = time.time()\n",
    "    \n",
    "    # Use asyncio.gather to run tools in parallel\n",
    "    # `return_exceptions=True` prevents one failed tool from stopping the others.\n",
    "    results = await asyncio.gather(\n",
    "        sensor_tool._arun(equipment_id=equipment_id),\n",
    "        log_tool._arun(ticket_id=ticket_id),\n",
    "        return_exceptions=True\n",
    "    )\n",
    "    \n",
    "    latency_ms = (time.time() - start_time) * 1000\n",
    "    \n",
    "    # Process results, checking for exceptions\n",
    "    sensor_data = results[0] if not isinstance(results[0], Exception) else {\"error\": str(results[0])}\n",
    "    log_data = results[1] if not isinstance(results[1], Exception) else {\"error\": str(results[1])}\n",
    "    \n",
    "    print(f\"\\n--- Concurrent Data Gathering Complete ({latency_ms:.0f} ms) ---\")\n",
    "    print(f\"Sensor Data: {sensor_data}\")\n",
    "    print(f\"Log Data: {log_data}\")\n",
    "    \n",
    "    return sensor_data, log_data\n",
    "\n",
    "# --- Run the concurrent gathering ---\n",
    "# In a Jupyter environment, you can run top-level await\n",
    "async def main():\n",
    "    await gather_data(equipment_id=\"Press-14\", ticket_id=\"TICKET-552\")\n",
    "    print(\"\\n--- Simulating a failure ---\")\n",
    "    # This will sometimes fail due to the simulated error in SensorTool\n",
    "    await gather_data(equipment_id=\"CNC-03\", ticket_id=\"TICKET-553\")\n",
    "\n",
    "# To run in a .py file, you would use:\n",
    "# asyncio.run(main())\n",
    "# For notebooks, we can just await the main function\n",
    "await main()"
   ]
  },
  {
   "cell_type": "markdown",
   "id": "ebaea5f5",
   "metadata": {},
   "source": [
    "## 🛡️ Error Handling Policy\n",
    "- Retry transient errors up to 2 times with exponential backoff.\n",
    "- Record failure in governance log with timestamp, tool name, exception detail.\n",
    "- Notify reliability engineer if tool failure persists > 15 minutes."
   ]
  },
  {
   "cell_type": "markdown",
   "id": "e20c41ab",
   "metadata": {},
   "source": [
    "## 🧪 Lab Assignment\n",
    "1. Add retry logic with `tenacity` or custom backoff.\n",
    "2. Implement latency tracking and push metrics to Prometheus.\n",
    "3. Integrate tools into the agent from Notebook 12 and verify concurrency performance.\n",
    "4. Draft incident response checklist for tool failures."
   ]
  },
  {
   "cell_type": "markdown",
   "id": "95bba988",
   "metadata": {},
   "source": [
    "## ✅ Checklist\n",
    "- [ ] Async tools created\n",
    "- [ ] Concurrency tested\n",
    "- [ ] Error policy documented\n",
    "- [ ] Lab tasks complete"
   ]
  },
  {
   "cell_type": "markdown",
   "id": "86216cae",
   "metadata": {},
   "source": [
    "## 📚 References\n",
    "- LangChain Tool Development\n",
    "- Tenacity Retry Library\n",
    "- Week 09 Monitoring Notebook"
   ]
  }
 ],
 "metadata": {
  "language_info": {
   "name": "python"
  }
 },
 "nbformat": 4,
 "nbformat_minor": 5
}
