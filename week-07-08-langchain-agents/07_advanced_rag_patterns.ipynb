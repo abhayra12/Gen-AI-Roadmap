{
 "cells": [
  {
   "cell_type": "markdown",
   "id": "4dd7a6d6",
   "metadata": {},
   "source": [
    "# 🔍 Week 07-08 · Notebook 07 · Advanced RAG Patterns\n",
    "\n",
    "Design multi-stage retrieval pipelines that adapt to equipment type, language, and safety risk."
   ]
  },
  {
   "cell_type": "markdown",
   "id": "f92d3c19",
   "metadata": {},
   "source": [
    "## 🎯 Learning Objectives\n",
    "- Implement multi-query generation to cover ambiguous technician prompts.\n",
    "- Use hierarchical retrieval (document → section → paragraph) tuned for SOPs.\n",
    "- Introduce domain heuristics (equipment criticality, downtime cost).\n",
    "- Export explainability artefacts for compliance review."
   ]
  },
  {
   "cell_type": "markdown",
   "id": "dbf8180a",
   "metadata": {},
   "source": [
    "## 🧩 Scenario\n",
    "When maintenance asks \"Why is spindle vibration high?\" the system must retrieve root-cause entries from sensors, SOPs, and prior incidents, ranking by safety priority."
   ]
  },
  {
   "cell_type": "code",
   "execution_count": null,
   "id": "7ec7e2ae",
   "metadata": {},
   "outputs": [],
   "source": [
    "from langchain.retrievers.multi_query import MultiQueryRetriever\n",
    "from langchain_openai import ChatOpenAI\n",
    "from langchain_community.vectorstores import Chroma\n",
    "from langchain_community.embeddings import HuggingFaceEmbeddings\n",
    "from langchain_core.output_parsers import StrOutputParser\n",
    "from langchain_core.runnables import RunnablePassthrough\n",
    "\n",
    "# --- 1. Setup: Create a sample vector store ---\n",
    "# This represents our knowledge base of SOPs, maintenance logs, etc.\n",
    "sample_texts = [\n",
    "    \"SOP-101: For high spindle vibration, first check for loose tool holders. Torque to 50 Nm.\",\n",
    "    \"Incident-552: High vibration on Press-04 was caused by bearing failure. Downtime: 8 hours. Cost: $50,000.\",\n",
    "    \"SOP-102: Spindle bearing replacement must be done in a clean environment. Use only approved lubricants.\",\n",
    "    \"Safety-Alert-7: Immediate shutdown is required if spindle vibration exceeds 10 mm/s. This is a critical safety issue.\",\n",
    "    \"Troubleshooting-Guide: Common causes of vibration include tool imbalance, bearing wear, and incorrect speed settings.\"\n",
    "]\n",
    "embeddings = HuggingFaceEmbeddings(model_name='sentence-transformers/all-MiniLM-L6-v2')\n",
    "vectorstore = Chroma.from_texts(sample_texts, embeddings)\n",
    "\n",
    "# --- 2. Multi-Query Retriever ---\n",
    "# This retriever generates multiple variations of the user's question to improve recall.\n",
    "llm = ChatOpenAI(model='gpt-4o-mini', temperature=0)\n",
    "retriever = MultiQueryRetriever.from_llm(\n",
    "    retriever=vectorstore.as_retriever(), \n",
    "    llm=llm\n",
    ")\n",
    "\n",
    "# --- 3. Build the RAG Chain using LCEL ---\n",
    "# This is the modern way to build RAG chains in LangChain.\n",
    "rag_prompt = ChatPromptTemplate.from_messages([\n",
    "    (\"system\", \"You are a helpful manufacturing assistant. Answer the user's question based on the following context. Prioritize safety alerts.\"),\n",
    "    (\"human\", \"Context:\\n{context}\\n\\nQuestion: {question}\")\n",
    "])\n",
    "\n",
    "rag_chain = (\n",
    "    {\"context\": retriever, \"question\": RunnablePassthrough()}\n",
    "    | rag_prompt\n",
    "    | llm\n",
    "    | StrOutputParser()\n",
    ")\n",
    "\n",
    "# --- 4. Run the chain ---\n",
    "question = 'Why is spindle vibration high after maintenance? Provide troubleshooting steps.'\n",
    "response = rag_chain.invoke(question)\n",
    "\n",
    "print(\"--- RAG Response ---\")\n",
    "print(response)\n",
    "\n",
    "# --- Bonus: See the generated queries ---\n",
    "import logging\n",
    "logging.basicConfig()\n",
    "logging.getLogger(\"langchain.retrievers.multi_query\").setLevel(logging.INFO)\n",
    "\n",
    "retriever.get_relevant_documents(question)"
   ]
  },
  {
   "cell_type": "markdown",
   "id": "20c906e8",
   "metadata": {},
   "source": [
    "### 🧭 Hierarchical Retrieval\n",
    "1. Retrieve relevant SOP sections via embeddings.\n",
    "2. Drill down to paragraphs referencing maintenance step IDs.\n",
    "3. Apply heuristic scoring: safety incidents > downtime costs > general tips.\n",
    "4. Log retrieval path for explainability."
   ]
  },
  {
   "cell_type": "code",
   "execution_count": null,
   "id": "7a5dee4b",
   "metadata": {},
   "outputs": [],
   "source": [
    "def rank_documents(docs):\n",
    "    \"\"\"\n",
    "    Applies a simple heuristic to rank documents based on keywords.\n",
    "    In a real system, this would be more sophisticated, using metadata, etc.\n",
    "    \"\"\"\n",
    "    ranked_docs = []\n",
    "    for doc in docs:\n",
    "        content = doc.page_content.lower()\n",
    "        score = 0\n",
    "        if \"safety-alert\" in content or \"critical safety\" in content:\n",
    "            score = 100\n",
    "        elif \"incident\" in content or \"downtime\" in content:\n",
    "            score = 50\n",
    "        elif \"sop\" in content:\n",
    "            score = 20\n",
    "        else:\n",
    "            score = 10\n",
    "        \n",
    "        ranked_docs.append({\"doc\": doc, \"score\": score})\n",
    "        \n",
    "    # Sort documents by score in descending order\n",
    "    return sorted(ranked_docs, key=lambda x: x['score'], reverse=True)\n",
    "\n",
    "# --- Example Usage ---\n",
    "# First, retrieve the documents\n",
    "retrieved_docs = retriever.get_relevant_documents(question)\n",
    "\n",
    "# Then, rank them\n",
    "ranked_results = rank_documents(retrieved_docs)\n",
    "\n",
    "print(\"\\n--- Heuristically Ranked Documents ---\")\n",
    "for result in ranked_results:\n",
    "    print(f\"Score: {result['score']}, Content: {result['doc'].page_content[:80]}...\")"
   ]
  },
  {
   "cell_type": "markdown",
   "id": "75719df9",
   "metadata": {},
   "source": [
    "## 🧪 Lab Assignment\n",
    "1. Implement hierarchical retriever using LangChain `ParentDocumentRetriever` for SOP tree.\n",
    "2. Add weight adjustments based on downtime impact from cost database.\n",
    "3. Export retrieval traces to JSON for auditors.\n",
    "4. Present RAG improvements vs. baseline to stakeholders."
   ]
  },
  {
   "cell_type": "markdown",
   "id": "96047e55",
   "metadata": {},
   "source": [
    "## ✅ Checklist\n",
    "- [ ] Multi-query retriever configured\n",
    "- [ ] Hierarchical retrieval implemented\n",
    "- [ ] Heuristic ranking documented\n",
    "- [ ] Lab deliverables shared"
   ]
  },
  {
   "cell_type": "markdown",
   "id": "d12113fe",
   "metadata": {},
   "source": [
    "## 📚 References\n",
    "- LangChain Multi-Query Retriever\n",
    "- Hierarchical Retrieval Patterns\n",
    "- Week 09 Evaluation Harness"
   ]
  }
 ],
 "metadata": {
  "language_info": {
   "name": "python"
  }
 },
 "nbformat": 4,
 "nbformat_minor": 5
}
