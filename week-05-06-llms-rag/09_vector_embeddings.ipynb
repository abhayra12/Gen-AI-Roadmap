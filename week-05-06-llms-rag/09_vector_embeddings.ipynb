{
 "cells": [
  {
   "cell_type": "markdown",
   "id": "664791cf",
   "metadata": {},
   "source": [
    "# Notebook 09 · Vector Embeddings\n",
    "\n",
    "Learn how embeddings represent manufacturing text, power semantic search, and enable RAG pipelines."
   ]
  },
  {
   "cell_type": "markdown",
   "id": "27719738",
   "metadata": {},
   "source": [
    "## Concept Recap\n",
    "- Embeddings map text to dense vectors.\n",
    "- Similarity measured via cosine/inner product.\n",
    "- Specialized models capture domain vocabulary (maintenance, quality)."
   ]
  },
  {
   "cell_type": "code",
   "execution_count": null,
   "id": "54d4d5cd",
   "metadata": {},
   "outputs": [],
   "source": [
    "from sentence_transformers import SentenceTransformer, util\n",
    "\n",
    "model = SentenceTransformer(\"sentence-transformers/all-MiniLM-L6-v2\")\n",
    "samples = [\n",
    "    \"Change filter on paint booth every 2 shifts.\",\n",
    "Replace hydraulic oil in press 12 quarterly.\",\n",
    "Inspect conveyor belt tension weekly.\",\n",
    "Calibrate torque wrench before use.\"\n",
    ": \n",
    ",\n",
    ": null,\n",
    ": {\n",
    ": \n",
    "\n",
    ": [],\n",
    ": [\n",
    ",\n",
    "\n",
    ": \n",
    ",\n",
    ": null,\n",
    ": {\n",
    ": \n",
    "\n",
    ": [],\n",
    ": [\n",
    ",\n",
    ",\n",
    "\n",
    ": \n",
    ",\n",
    ": {\n",
    ": \n",
    "\n",
    ": [\n",
    ",\n",
    "\n",
    ": \n",
    ",\n",
    ": null,\n",
    ": {\n",
    ": \n",
    "\n",
    ": [],\n",
    ": [\n",
    ",\n",
    ",\n",
    ",\n",
    ",\n",
    ",\n",
    "4\n",
    ","
   ]
  },
  {
   "cell_type": "markdown",
   "id": "c680aa27",
   "metadata": {},
   "source": [
    "## Embedding Stores\n",
    "- **Chroma / FAISS**: prototypes and small-scale deployments.\n",
    "- **Milvus / Pinecone**: scalable, managed options.\n",
    "- **Elasticsearch / OpenSearch**: hybrid dense + keyword search."
   ]
  },
  {
   "cell_type": "markdown",
   "id": "4a955604",
   "metadata": {},
   "source": [
    "## Exercise\n",
    "Benchmark three embedding models on your maintenance FAQ set. Compare recall@5 and latency."
   ]
  }
 ],
 "metadata": {
  "language_info": {
   "name": "python"
  }
 },
 "nbformat": 4,
 "nbformat_minor": 5
}
