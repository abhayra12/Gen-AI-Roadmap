{
 "cells": [
  {
   "cell_type": "markdown",
   "id": "92b78187",
   "metadata": {},
   "source": [
    "# 🧰 Week 5-6 · Notebook 02 · HuggingFace Tasks Deep Dive\n",
    "\n",
    "**Module:** LLMs, Prompt Engineering & RAG  \n",
    "**Project:** Build the Knowledge Core for the Manufacturing Copilot\n",
    "\n",
    "---\n",
    "\n",
    "This notebook expands your toolkit with HuggingFace `pipeline`s, framing each NLP capability around a practical manufacturing workflow. Pipelines are the easiest way to use a pretrained model for a given task."
   ]
  },
  {
   "cell_type": "markdown",
   "id": "70d3a251",
   "metadata": {},
   "source": [
    "## 🎯 Objectives\n",
    "\n",
    "By the end of this notebook, you will be able to:\n",
    "1. ✅ Map common manufacturing floor scenarios to the correct HuggingFace pipeline.\n",
    "2. ✅ Customize model selection, batching, and device placement for different performance targets.\n",
    "3. ✅ Combine multiple pipelines to create a more complex workflow (e.g., translation + summarization).\n",
    "4. ✅ Understand the inputs and outputs for each pipeline to integrate them into larger applications."
   ]
  },
  {
   "cell_type": "markdown",
   "id": "4ca6038c",
   "metadata": {},
   "source": [
    "## 🧾 Pipeline Selector for Manufacturing\n",
    "\n",
    "| Manufacturing Goal | Recommended Pipeline | Example Use Case |\n",
    "| --- | --- | --- |\n",
    "| Gauge operator sentiment | `sentiment-analysis` | 'Shift B reported a strong chemical odor near CNC-7.' |\n",
    "| Summarize shift logs | `summarization` | Condensing a multi-paragraph logbook entry. |\n",
    "| Translate supplier notices | `translation` | Translating a German safety bulletin to English. |\n",
    "| Retrieve SOP steps | `question-answering` | Finding the torque spec from a maintenance manual. |\n",
    "| Draft downtime reports | `text-generation` | Generating a preliminary report from an incident alert. |\n",
    "| Classify new tickets | `zero-shot-classification`| Categorizing a new failure mode without a pre-existing label. |\n",
    "| Extract structured data | `token-classification` (NER) | Pulling part numbers and asset IDs from a work order. |\n",
    "| Fill in missing data | `fill-mask` | Suggesting a plausible value for a corrupted sensor reading. |"
   ]
  },
  {
   "cell_type": "markdown",
   "id": "ae025b5b",
   "metadata": {},
   "source": [
    "## ⚙️ Environment Quick Check\n",
    "Let's ensure our environment is ready."
   ]
  },
  {
   "cell_type": "markdown",
   "id": "d97af747",
   "metadata": {},
   "source": [
    "import torch\n",
    "import transformers\n",
    "\n",
    "print(f'Torch: {torch.__version__}, CUDA available: {torch.cuda.is_available()}')\n",
    "print(f'Transformers: {transformers.__version__}')\n",
    "\n",
    "device = 0 if torch.cuda.is_available() else -1"
   ]
  },
  {
   "cell_type": "markdown",
   "id": "e4281765",
   "metadata": {},
   "source": [
    "## 1️⃣ Sentiment Analysis\n",
    "\n",
    "**Use Case:** Automatically monitor operator feedback from a digital logbook to gauge morale, identify safety concerns, or flag urgent issues."
   ]
  },
  {
   "cell_type": "code",
   "execution_count": null,
   "id": "e5a0687a",
   "metadata": {},
   "outputs": [],
   "source": [
    "from transformers import pipeline\n",
    "\n",
    "feedback = [\n",
    "    'The refurbished compressor is silent and our energy draw dropped 3%. Great work!',\n",
    "    'The paint booth filter change was skipped again; we had to scrap 18 panels due to overspray.'\n",
    "]\n",
    "\n",
    "# Using a model fine-tuned on social media text, which adapts well to informal comments.\n",
    "sentiment_pipeline = pipeline('sentiment-analysis', model='cardiffnlp/twitter-roberta-base-sentiment', device=device)\n",
    "results = sentiment_pipeline(feedback)\n",
    "for text, result in zip(feedback, results):\n",
    "    print(f\"'{text[:50]}...' -> {result['label']} ({result['score']:.2f})\")"
   ]
  }
 ],
 "metadata": {
  "language_info": {
   "name": "python"
  }
 },
 "nbformat": 4,
 "nbformat_minor": 5
}
