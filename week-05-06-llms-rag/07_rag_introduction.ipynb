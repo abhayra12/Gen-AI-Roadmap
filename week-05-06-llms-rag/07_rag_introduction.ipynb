{
 "cells": [
  {
   "cell_type": "markdown",
   "id": "09e88594",
   "metadata": {},
   "source": [
    "# 🧠 Week 5-6 · Notebook 07 · Retrieval-Augmented Generation (RAG) Foundations\n",
    "\n",
    "Understand when to pair LLMs with retrievers, how to architect end-to-end pipelines, and which manufacturing scenarios benefit most from RAG."
   ]
  },
  {
   "cell_type": "markdown",
   "id": "4a00c9c3",
   "metadata": {},
   "source": [
    "## 🎯 Learning Objectives\n",
    "- Map RAG components and how they integrate with existing manufacturing systems.\n",
    "- Compare RAG vs. fine-tuning vs. prompt-only approaches across latency, accuracy, and governance.\n",
    "- Draft a pilot plan including data sources, privacy controls, and KPIs.\n",
    "- Recognize common failure modes (stale data, hallucinations) and mitigation strategies."
   ]
  },
  {
   "cell_type": "markdown",
   "id": "bf62079d",
   "metadata": {},
   "source": [
    "## 🤝 When to use RAG?\n",
    "| Scenario | Fine-tune? | RAG? | Rationale |\n",
    "| --- | --- | --- | --- |\n",
    "| Rapidly changing SOPs | ❌ | ✅ | Retrieval keeps procedures current without retraining. |\n",
    "| Structured tabular inputs | ✅ | ⚠️ | Consider seq2seq tuner; RAG for hybrid text/table workflows. |\n",
    "| Supplier compliance QA | ⚠️ | ✅ | Blend policies, contracts, and multilingual docs. |\n",
    "| Safety incident classification | ✅ | ⚠️ | Fine-tune small classifier; optionally add retrieval for references. |\n",
    "| Knowledge gaps across shifts | ❌ | ✅ | LLM + vector DB surfaces tribal knowledge on-demand. |"
   ]
  },
  {
   "cell_type": "markdown",
   "id": "27c3598a",
   "metadata": {},
   "source": [
    "## 🏗️ Reference Architecture\n",
    "1. **Ingest** — parse PDFs, DOCX, ticketing systems, MES data. Normalize metadata (machine, shift, language).\n",
    "2. **Chunk** — split content into 200-400 token segments with overlap; retain source IDs.\n",
    "3. **Embed** — encode chunks using domain-tuned models (see Notebook 09).\n",
    "4. **Index** — store vectors + metadata in FAISS/Chroma/PGVector.\n",
    "5. **Retrieve** — rank top-k results using cosine similarity and re-ranking.\n",
    "6. **Generate** — compose the prompt with instructions, retrieved context, and safety reminders.\n",
    "7. **Feedback** — log responses, user votes, and retrieval stats for continuous improvement."
   ]
  },
  {
   "cell_type": "code",
   "execution_count": null,
   "id": "4474db63",
   "metadata": {},
   "outputs": [],
   "source": [
    "from sentence_transformers import SentenceTransformer, util\n",
    "import pandas as pd\n",
    "\n",
    "corpus = pd.DataFrame([\n",
    "    {\n",
    "        \"doc_id\": \"sop_press_2025\",\n",
    "        \"text\": \"Hydraulic press maintenance: inspect seals, verify pressure gauges, top off fluid, confirm lockout-tagout steps.\",\n",
    "    },\n",
    "    {\n",
    "        \"doc_id\": \"conveyor_guide\",\n",
    "        \"text\": \"Conveyor troubleshooting: check belt tension, motor load, and sensor alignment before restarting.\",\n",
    "    },\n",
    "    {\n",
    "        \"doc_id\": \"robot_pm\",\n",
    "        \"text\": \"Robot arm preventive maintenance: grease joints, recalibrate torque sensors, validate vision alignment.\",\n",
    "    },\n",
    "])\n",
    "\n",
    "retriever_model = SentenceTransformer(\"sentence-transformers/all-MiniLM-L6-v2\")\n",
    "corpus_embeddings = retriever_model.encode(corpus.text.tolist(), convert_to_tensor=True)"
   ]
  },
  {
   "cell_type": "code",
   "execution_count": null,
   "id": "4af5b24c",
   "metadata": {},
   "outputs": [],
   "source": [
    "question = \"Press 12 shows inconsistent hydraulic pressure. What should the technician verify first?\"\n",
    "query_embedding = retriever_model.encode(question, convert_to_tensor=True)\n",
    "\n",
    "top_k = 2\n",
    "hits = util.semantic_search(query_embedding, corpus_embeddings, top_k=top_k)[0]\n",
    "\n",
    "retrieved = corpus.iloc[[hit['corpus_id'] for hit in hits]].assign(score=[round(hit['score'], 3) for hit in hits])\n",
    "retrieved"
   ]
  },
  {
   "cell_type": "code",
   "execution_count": null,
   "id": "9c54d3d1",
   "metadata": {},
   "outputs": [],
   "source": [
    "context_block = \"\\n\".join(\n",
    "    f\"- ({row.doc_id}) {row.text}\" for _, row in retrieved.iterrows()\n",
    ")\n",
    "\n",
    "prompt = f\"\"\"\n",
    "SYSTEM: You are a maintenance advisor. Cite sources by doc_id.\n",
    "CONTEXT:\n",
    "{context_block}\n",
    "\n",
    "QUESTION: {question}\n",
    "RESPONSE:\n",
    "\"\"\".strip()\n",
    "\n",
    "print(prompt)"
   ]
  },
  {
   "cell_type": "code",
   "execution_count": null,
   "id": "7c6603ce",
   "metadata": {},
   "outputs": [],
   "source": [
    "from transformers import pipeline\n",
    "\n",
    "rag_generator = pipeline(\n",
    "    \"text-generation\",\n",
    "    model=\"tiiuae/falcon-7b-instruct\",\n",
    "    max_new_tokens=180,\n",
    "    temperature=0.2,\n",
    ")\n",
    "\n",
    "rag_response = rag_generator(prompt)[0][\"generated_text\"]\n",
    "print(rag_response)"
   ]
  },
  {
   "cell_type": "markdown",
   "id": "d4adcdae",
   "metadata": {},
   "source": [
    "## Prompt Composition\n",
    "````text\n",
    "SYSTEM: You are a maintenance advisor. Use only the provided context.\n",
    "CONTEXT:\n",
    "{retrieved_passages}\n",
    "\n",
    "QUESTION: {question}\n",
    "RESPONSE:\n",
    "````"
   ]
  },
  {
   "cell_type": "markdown",
   "id": "4f92a9a7",
   "metadata": {},
   "source": [
    "## 🏭 Manufacturing Use Cases\n",
    "| Persona | Problem | RAG Value |\n",
    "| --- | --- | --- |\n",
    "| Reliability engineer | Search historical tickets + SOPs | Retrieve tribal knowledge with citations |\n",
    "| Shift supervisor | Answer \"what changed\" during handover | Blend shift logs + alerts |\n",
    "| EHS specialist | Check compliance requirements | Surface OSHA clauses and internal policies |\n",
    "| Procurement | Compare supplier clauses | Query contracts and standards side-by-side |\n",
    "| Technician | Troubleshoot on the floor | Access quick steps from manuals via mobile"
   ]
  },
  {
   "cell_type": "markdown",
   "id": "9be97a76",
   "metadata": {},
   "source": [
    "## ⚠️ Risks & Mitigations\n",
    "| Risk | Impact | Mitigation |\n",
    "| --- | --- | --- |\n",
    "| Hallucinated citations | Lose user trust | Enforce answer templates, confidence scores |\n",
    "| Stale documents | Out-of-date procedures | Nightly ingestion jobs, freshness metadata |\n",
    "| Latency spikes | User abandonment | Cache frequent questions, approximate ANN |\n",
    "| Access control gaps | Data leakage | Row-level security, signed URLs |\n",
    "| Missing context | Partial answers | Retrieval fallback (keywords) + user feedback loop |"
   ]
  },
  {
   "cell_type": "markdown",
   "id": "1513ab79",
   "metadata": {},
   "source": [
    "## 📊 Success Metrics\n",
    "- **Answer accuracy:** SME review score ≥ 4/5 across 50 queries.\n",
    "- **Citation coverage:** ≥ 95% of answers include source references.\n",
    "- **Latency:** < 3 seconds for top-5 retrieval + generation.\n",
    "- **Adoption:** 60% of reliability engineers active weekly.\n",
    "- **Safety compliance:** Zero unsupported safety recommendations."
   ]
  },
  {
   "cell_type": "markdown",
   "id": "80cbcbe2",
   "metadata": {},
   "source": [
    "## 🛠️ Pilot Blueprint\n",
    "1. **Scope** — pick one line (e.g., press shop) and 3 document types.\n",
    "2. **Data** — ingest last 12 months of SOPs, tickets, audit findings.\n",
    "3. **Infrastructure** — configure vector DB (Chroma or PGVector) + access policies.\n",
    "4. **LLM** — start with instruction-tuned 7B model; define prompt template.\n",
    "5. **Evaluation** — run 100 curated questions, collect SME thumbs-up/down.\n",
    "6. **Rollout** — integrate into Teams/Slack bot with analytics dashboards."
   ]
  },
  {
   "cell_type": "markdown",
   "id": "c0125790",
   "metadata": {},
   "source": [
    "## 🔐 Governance & Compliance Checklist\n",
    "- Classify documents (public/internal/confidential) before ingestion.\n",
    "- Apply row-level security or embeddings encryption for sensitive data.\n",
    "- Log user queries and retrieved chunks for audits.\n",
    "- Align with IT/OT policies for network segregation."
   ]
  },
  {
   "cell_type": "markdown",
   "id": "9e30c5a4",
   "metadata": {},
   "source": [
    "## ✅ Implementation Checklist\n",
    "- [ ] Document inventory categorized and access-controlled\n",
    "- [ ] Vector store provisioned with monitoring hooks\n",
    "- [ ] Prompt template reviewed by SMEs\n",
    "- [ ] Evaluation harness with accuracy/citation metrics\n",
    "- [ ] Governance plan signed off by IT, EHS, Quality"
   ]
  },
  {
   "cell_type": "markdown",
   "id": "e346905c",
   "metadata": {},
   "source": [
    "## 📚 References\n",
    "- *Retrieval-Augmented Generation for Industry*, Siemens 2024\n",
    "- Chroma & FAISS documentation\n",
    "- Week 09 Vector Embeddings notebook (coming up)\n",
    "- Manufacturing data governance standard (2025)"
   ]
  },
  {
   "cell_type": "markdown",
   "id": "756c24ca",
   "metadata": {},
   "source": [
    "## 🧪 Lab Assignment\n",
    "1. Select 50 SOP snippets + 50 maintenance tickets and ingest into a lightweight vector store.\n",
    "2. Define a retrieval prompt template with citation requirements.\n",
    "3. Evaluate the system on 30 curated questions, logging accuracy, latency, and citation coverage.\n",
    "4. Identify two failure cases and propose mitigation steps.\n",
    "5. Summarize pilot recommendations (timeline, resources, success KPIs)."
   ]
  }
 ],
 "metadata": {
  "language_info": {
   "name": "python"
  }
 },
 "nbformat": 4,
 "nbformat_minor": 5
}
