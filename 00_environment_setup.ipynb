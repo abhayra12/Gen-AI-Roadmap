{
 "cells": [
  {
   "cell_type": "markdown",
   "id": "c4d71bfb",
   "metadata": {},
   "source": [
    "# 🚀 00: Environment Setup & Verification\n",
    "\n",
    "Welcome to the Gen AI Masters Program! This first notebook is a crucial step to ensure your development environment is set up correctly. \n",
    "\n",
    "### ✅ Objectives\n",
    "1. **Verify Python and Pip:** Confirm that the correct Python version and its package manager are installed.\n",
    "2. **Install Core Libraries:** Install essential libraries like `torch`, `transformers`, and `langchain` from `requirements.txt`.\n",
    "3. **Authenticate with Hugging Face:** Ensure you can securely connect to the Hugging Face Hub to download models.\n",
    "4. **Check GPU Availability:** Verify that PyTorch can detect and use a GPU if one is available."
   ]
  },
  {
   "cell_type": "markdown",
   "id": "9acac0d2",
   "metadata": {},
   "source": [
    "### 1. Python Version Check\n",
    "\n",
    "Let's start by checking the Python version. This course is designed for **Python 3.11+**."
   ]
  },
  {
   "cell_type": "code",
   "execution_count": null,
   "id": "0e0dc102",
   "metadata": {},
   "outputs": [],
   "source": [
    "import sys\n",
    "\n",
    "print(f\"🐍 Python Version: {sys.version}\")\n",
    "\n",
    "# Assert that the Python version is 3.11 or higher\n",
    "assert sys.version_info >= (3, 11), \"❌ Python 3.11+ is required. Please check your environment.\""
   ]
  },
  {
   "cell_type": "markdown",
   "id": "af445c85",
   "metadata": {},
   "source": [
    "### 2. Install Dependencies\n",
    "\n",
    "Now, we'll install all the necessary libraries listed in the `requirements.txt` file. This file contains all the packages we'll need throughout the course. The `!pip install` command runs the shell command to install these packages directly from the notebook."
   ]
  },
  {
   "cell_type": "code",
   "execution_count": null,
   "id": "93f374ea",
   "metadata": {},
   "outputs": [],
   "source": [
    "%pip install -r requirements.txt --quiet"
   ]
  },
  {
   "cell_type": "markdown",
   "id": "10e2b476",
   "metadata": {},
   "source": [
    "### 3. Hugging Face Authentication\n",
    "\n",
    "We need to authenticate with Hugging Face to download models. This step uses the `huggingface-cli login` command. \n",
    "\n",
    "**Important:** This command will look for the `HUGGINGFACE_TOKEN` environment variable. If you are in a GitHub Codespace and have set the secret correctly, this will work automatically. If you are running locally, ensure your `.env` file is set up."
   ]
  },
  {
   "cell_type": "code",
   "execution_count": null,
   "id": "ca78df0f",
   "metadata": {},
   "outputs": [],
   "source": [
    "!huggingface-cli login"
   ]
  },
  {
   "cell_type": "markdown",
   "id": "3602998e",
   "metadata": {},
   "source": [
    "### 4. GPU Availability Check\n",
    "\n",
    "Deep learning models train much faster on a GPU. Let's check if PyTorch can detect a CUDA-enabled GPU in your environment. If you are on a CPU-only machine (like a standard GitHub Codespace), this will report `False`, which is perfectly fine for many of the initial notebooks."
   ]
  },
  {
   "cell_type": "code",
   "execution_count": null,
   "id": "931de170",
   "metadata": {},
   "outputs": [],
   "source": [
    "import torch\n",
    "\n",
    "is_gpu_available = torch.cuda.is_available()\n",
    "\n",
    "if is_gpu_available:\n",
    "    print(f\"✅ GPU is available: {torch.cuda.get_device_name(0)}\")\n",
    "else:\n",
    "    print(\"❌ No GPU detected. The course will run on CPU.\")"
   ]
  },
  {
   "cell_type": "markdown",
   "id": "a240c6f5",
   "metadata": {},
   "source": [
    "---\n",
    "\n",
    "## 🎉 Setup Complete!\n",
    "\n",
    "If all the cells above have executed without errors, your environment is ready. You can now proceed to the first module in `week-01-02-python-ml-foundations`.\n",
    "\n",
    "**Happy learning!** 🚀"
   ]
  }
 ],
 "metadata": {
  "language_info": {
   "name": "python"
  }
 },
 "nbformat": 4,
 "nbformat_minor": 5
}
